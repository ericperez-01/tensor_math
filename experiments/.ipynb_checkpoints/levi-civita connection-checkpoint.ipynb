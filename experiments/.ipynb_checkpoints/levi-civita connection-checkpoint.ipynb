{
 "cells": [
  {
   "cell_type": "code",
   "execution_count": 1,
   "id": "e114f62f-75aa-42c4-9308-13fa0120b52a",
   "metadata": {
    "execution": {
     "iopub.execute_input": "2023-11-12T19:18:48.956776Z",
     "iopub.status.busy": "2023-11-12T19:18:48.954564Z",
     "iopub.status.idle": "2023-11-12T19:18:48.966912Z",
     "shell.execute_reply": "2023-11-12T19:18:48.965875Z",
     "shell.execute_reply.started": "2023-11-12T19:18:48.956665Z"
    }
   },
   "outputs": [],
   "source": [
    "from IPython.display import display, Math, Latex"
   ]
  },
  {
   "cell_type": "code",
   "execution_count": 2,
   "id": "8eb3b273-2967-4895-a71b-15016c06fcd8",
   "metadata": {
    "execution": {
     "iopub.execute_input": "2023-11-12T19:18:49.241967Z",
     "iopub.status.busy": "2023-11-12T19:18:49.241115Z",
     "iopub.status.idle": "2023-11-12T19:18:49.247909Z",
     "shell.execute_reply": "2023-11-12T19:18:49.246664Z",
     "shell.execute_reply.started": "2023-11-12T19:18:49.241941Z"
    }
   },
   "outputs": [],
   "source": [
    "def show_latex(str):\n",
    "    return display(Math(latex(str)))"
   ]
  },
  {
   "cell_type": "code",
   "execution_count": 3,
   "id": "be8c8af6",
   "metadata": {
    "execution": {
     "iopub.execute_input": "2023-11-12T19:18:49.901489Z",
     "iopub.status.busy": "2023-11-12T19:18:49.900641Z",
     "iopub.status.idle": "2023-11-12T19:18:49.919453Z",
     "shell.execute_reply": "2023-11-12T19:18:49.918254Z",
     "shell.execute_reply.started": "2023-11-12T19:18:49.901420Z"
    }
   },
   "outputs": [],
   "source": [
    "sage: forget()"
   ]
  },
  {
   "cell_type": "code",
   "execution_count": 4,
   "id": "07a98788-461d-4cc7-9026-f6ea3b7d24d8",
   "metadata": {
    "execution": {
     "iopub.execute_input": "2023-11-12T19:18:49.922104Z",
     "iopub.status.busy": "2023-11-12T19:18:49.920727Z",
     "iopub.status.idle": "2023-11-12T19:18:51.081962Z",
     "shell.execute_reply": "2023-11-12T19:18:51.081323Z",
     "shell.execute_reply.started": "2023-11-12T19:18:49.922060Z"
    }
   },
   "outputs": [],
   "source": [
    "sage: M = Manifold(3, 'R^3', start_index=1)"
   ]
  },
  {
   "cell_type": "code",
   "execution_count": 5,
   "id": "2fe9b6db-7687-410d-bf35-f51c560489e7",
   "metadata": {
    "execution": {
     "iopub.execute_input": "2023-11-12T19:18:51.084962Z",
     "iopub.status.busy": "2023-11-12T19:18:51.083955Z",
     "iopub.status.idle": "2023-11-12T19:18:51.089556Z",
     "shell.execute_reply": "2023-11-12T19:18:51.089088Z",
     "shell.execute_reply.started": "2023-11-12T19:18:51.084937Z"
    }
   },
   "outputs": [
    {
     "data": {
      "text/latex": [
       "$\\displaystyle R^3$"
      ],
      "text/plain": [
       "<IPython.core.display.Math object>"
      ]
     },
     "metadata": {},
     "output_type": "display_data"
    }
   ],
   "source": [
    "show_latex(M)"
   ]
  },
  {
   "cell_type": "code",
   "execution_count": 6,
   "id": "0df7717f-bc08-42ab-9081-fca80df35b06",
   "metadata": {
    "execution": {
     "iopub.execute_input": "2023-11-12T19:18:51.090648Z",
     "iopub.status.busy": "2023-11-12T19:18:51.090204Z",
     "iopub.status.idle": "2023-11-12T19:18:52.915643Z",
     "shell.execute_reply": "2023-11-12T19:18:52.915015Z",
     "shell.execute_reply.started": "2023-11-12T19:18:51.090625Z"
    }
   },
   "outputs": [],
   "source": [
    "sage: c_spher.<r,th,ph> = M.chart(r'r:(0,+oo) th:(0,pi):\\theta ph:(0,2*pi):\\phi')"
   ]
  },
  {
   "cell_type": "code",
   "execution_count": 7,
   "id": "738c8ae5-c1cf-41c3-8df1-54688ba208a6",
   "metadata": {
    "execution": {
     "iopub.execute_input": "2023-11-12T19:18:52.919937Z",
     "iopub.status.busy": "2023-11-12T19:18:52.918961Z",
     "iopub.status.idle": "2023-11-12T19:18:52.935001Z",
     "shell.execute_reply": "2023-11-12T19:18:52.934263Z",
     "shell.execute_reply.started": "2023-11-12T19:18:52.919902Z"
    }
   },
   "outputs": [],
   "source": [
    "sage: g = M.metric('g')"
   ]
  },
  {
   "cell_type": "code",
   "execution_count": 8,
   "id": "242ad05e-87e9-4f52-840b-8df030068e53",
   "metadata": {
    "execution": {
     "iopub.execute_input": "2023-11-12T19:18:52.938292Z",
     "iopub.status.busy": "2023-11-12T19:18:52.936577Z",
     "iopub.status.idle": "2023-11-12T19:18:53.009909Z",
     "shell.execute_reply": "2023-11-12T19:18:53.009194Z",
     "shell.execute_reply.started": "2023-11-12T19:18:52.938253Z"
    }
   },
   "outputs": [],
   "source": [
    "sage: g[1,1], g[2,2], g[3,3] = 1, r^2 , (r*sin(th))^2"
   ]
  },
  {
   "cell_type": "code",
   "execution_count": 9,
   "id": "1fe6a076-eeff-4a7f-a07b-0eb35804e3b9",
   "metadata": {
    "execution": {
     "iopub.execute_input": "2023-11-12T19:18:53.012259Z",
     "iopub.status.busy": "2023-11-12T19:18:53.010855Z",
     "iopub.status.idle": "2023-11-12T19:18:53.032122Z",
     "shell.execute_reply": "2023-11-12T19:18:53.030642Z",
     "shell.execute_reply.started": "2023-11-12T19:18:53.012175Z"
    }
   },
   "outputs": [
    {
     "data": {
      "text/plain": [
       "g = dr⊗dr + r^2 dth⊗dth + r^2*sin(th)^2 dph⊗dph"
      ]
     },
     "execution_count": 9,
     "metadata": {},
     "output_type": "execute_result"
    }
   ],
   "source": [
    "sage: g.display()"
   ]
  },
  {
   "cell_type": "code",
   "execution_count": 10,
   "id": "1777996a-6ebf-4591-94d3-5382bab0d5b0",
   "metadata": {
    "execution": {
     "iopub.execute_input": "2023-11-12T19:18:53.695919Z",
     "iopub.status.busy": "2023-11-12T19:18:53.695165Z",
     "iopub.status.idle": "2023-11-12T19:18:54.199124Z",
     "shell.execute_reply": "2023-11-12T19:18:54.198615Z",
     "shell.execute_reply.started": "2023-11-12T19:18:53.695891Z"
    }
   },
   "outputs": [
    {
     "data": {
      "text/plain": [
       "Levi-Civita connection nabla associated with the Riemannian metric g on the 3-dimensional differentiable manifold R^3"
      ]
     },
     "execution_count": 10,
     "metadata": {},
     "output_type": "execute_result"
    }
   ],
   "source": [
    "sage: nab = g.connection(name='nabla', latex_name=r'\\nabla') ; nab"
   ]
  },
  {
   "cell_type": "code",
   "execution_count": 11,
   "id": "496cfe42-c8d7-405b-9a1e-4e2d4fe7e6d2",
   "metadata": {
    "execution": {
     "iopub.execute_input": "2023-11-12T19:18:54.200779Z",
     "iopub.status.busy": "2023-11-12T19:18:54.200267Z",
     "iopub.status.idle": "2023-11-12T19:18:54.204867Z",
     "shell.execute_reply": "2023-11-12T19:18:54.203976Z",
     "shell.execute_reply.started": "2023-11-12T19:18:54.200755Z"
    }
   },
   "outputs": [
    {
     "data": {
      "text/latex": [
       "$\\displaystyle \\nabla$"
      ],
      "text/plain": [
       "<IPython.core.display.Math object>"
      ]
     },
     "metadata": {},
     "output_type": "display_data"
    }
   ],
   "source": [
    "show_latex(nab)"
   ]
  },
  {
   "cell_type": "code",
   "execution_count": 12,
   "id": "b11d22cc-51b8-47eb-8e4d-d5087848b9cf",
   "metadata": {
    "execution": {
     "iopub.execute_input": "2023-11-12T19:18:54.272477Z",
     "iopub.status.busy": "2023-11-12T19:18:54.271616Z",
     "iopub.status.idle": "2023-11-12T19:18:54.477539Z",
     "shell.execute_reply": "2023-11-12T19:18:54.476439Z",
     "shell.execute_reply.started": "2023-11-12T19:18:54.272452Z"
    }
   },
   "outputs": [
    {
     "data": {
      "text/plain": [
       "Tensor field nabla(g) of type (0,3) on the 3-dimensional differentiable manifold R^3"
      ]
     },
     "execution_count": 12,
     "metadata": {},
     "output_type": "execute_result"
    }
   ],
   "source": [
    "sage: Dg = nab(g) ; Dg"
   ]
  },
  {
   "cell_type": "code",
   "execution_count": 13,
   "id": "121abd8a-a9dc-4e15-85c2-0692678d3dec",
   "metadata": {
    "execution": {
     "iopub.execute_input": "2023-11-12T19:18:54.670724Z",
     "iopub.status.busy": "2023-11-12T19:18:54.669662Z",
     "iopub.status.idle": "2023-11-12T19:18:54.676570Z",
     "shell.execute_reply": "2023-11-12T19:18:54.675595Z",
     "shell.execute_reply.started": "2023-11-12T19:18:54.670684Z"
    }
   },
   "outputs": [
    {
     "data": {
      "text/latex": [
       "$\\displaystyle \\nabla g$"
      ],
      "text/plain": [
       "<IPython.core.display.Math object>"
      ]
     },
     "metadata": {},
     "output_type": "display_data"
    }
   ],
   "source": [
    "show_latex(Dg)"
   ]
  },
  {
   "cell_type": "code",
   "execution_count": 14,
   "id": "bab03df9-b414-451c-8148-cb78cdc70c2b",
   "metadata": {
    "execution": {
     "iopub.execute_input": "2023-11-12T19:18:54.952711Z",
     "iopub.status.busy": "2023-11-12T19:18:54.951697Z",
     "iopub.status.idle": "2023-11-12T19:18:54.958510Z",
     "shell.execute_reply": "2023-11-12T19:18:54.957387Z",
     "shell.execute_reply.started": "2023-11-12T19:18:54.952671Z"
    }
   },
   "outputs": [
    {
     "data": {
      "text/plain": [
       "True"
      ]
     },
     "execution_count": 14,
     "metadata": {},
     "output_type": "execute_result"
    }
   ],
   "source": [
    "sage: Dg == 0"
   ]
  },
  {
   "cell_type": "code",
   "execution_count": 15,
   "id": "41c71548-7766-4de0-8851-c8d3a96c7bd7",
   "metadata": {
    "execution": {
     "iopub.execute_input": "2023-11-12T19:18:55.210872Z",
     "iopub.status.busy": "2023-11-12T19:18:55.209847Z",
     "iopub.status.idle": "2023-11-12T19:18:55.218026Z",
     "shell.execute_reply": "2023-11-12T19:18:55.216780Z",
     "shell.execute_reply.started": "2023-11-12T19:18:55.210839Z"
    }
   },
   "outputs": [
    {
     "data": {
      "text/plain": [
       "True"
      ]
     },
     "execution_count": 15,
     "metadata": {},
     "output_type": "execute_result"
    }
   ],
   "source": [
    "sage: nab.torsion() == 0"
   ]
  },
  {
   "cell_type": "code",
   "execution_count": 16,
   "id": "2b4a1391-8bae-4db9-bd23-158396815930",
   "metadata": {
    "execution": {
     "iopub.execute_input": "2023-11-12T19:18:55.484557Z",
     "iopub.status.busy": "2023-11-12T19:18:55.483247Z",
     "iopub.status.idle": "2023-11-12T19:18:55.490495Z",
     "shell.execute_reply": "2023-11-12T19:18:55.489781Z",
     "shell.execute_reply.started": "2023-11-12T19:18:55.484506Z"
    }
   },
   "outputs": [
    {
     "data": {
      "text/plain": [
       "True"
      ]
     },
     "execution_count": 16,
     "metadata": {},
     "output_type": "execute_result"
    }
   ],
   "source": [
    "sage: sage.manifolds.differentiable.affine_connection.AffineConnection.torsion(nab) == 0"
   ]
  },
  {
   "cell_type": "code",
   "execution_count": 17,
   "id": "61be2e5f-245e-4d89-b3b3-9b3b42dc3a6f",
   "metadata": {
    "execution": {
     "iopub.execute_input": "2023-11-12T19:18:55.749379Z",
     "iopub.status.busy": "2023-11-12T19:18:55.748408Z",
     "iopub.status.idle": "2023-11-12T19:18:55.756052Z",
     "shell.execute_reply": "2023-11-12T19:18:55.755357Z",
     "shell.execute_reply.started": "2023-11-12T19:18:55.749334Z"
    }
   },
   "outputs": [
    {
     "data": {
      "text/plain": [
       "Coordinate frame (R^3, (∂/∂r,∂/∂th,∂/∂ph))"
      ]
     },
     "execution_count": 17,
     "metadata": {},
     "output_type": "execute_result"
    }
   ],
   "source": [
    "sage: M.default_frame()"
   ]
  },
  {
   "cell_type": "code",
   "execution_count": 18,
   "id": "70e052e5-6873-47a7-8445-a2da54b27bb9",
   "metadata": {
    "execution": {
     "iopub.execute_input": "2023-11-12T19:18:56.022842Z",
     "iopub.status.busy": "2023-11-12T19:18:56.021926Z",
     "iopub.status.idle": "2023-11-12T19:18:56.028798Z",
     "shell.execute_reply": "2023-11-12T19:18:56.028068Z",
     "shell.execute_reply.started": "2023-11-12T19:18:56.022803Z"
    }
   },
   "outputs": [
    {
     "data": {
      "text/plain": [
       "3-indices components w.r.t. Coordinate frame (R^3, (∂/∂r,∂/∂th,∂/∂ph)), with symmetry on the index positions (1, 2)"
      ]
     },
     "execution_count": 18,
     "metadata": {},
     "output_type": "execute_result"
    }
   ],
   "source": [
    "sage: nab.coef()"
   ]
  },
  {
   "cell_type": "code",
   "execution_count": 19,
   "id": "54a3943e-3419-4465-b4c2-6a7149c67d3c",
   "metadata": {
    "execution": {
     "iopub.execute_input": "2023-11-12T19:18:56.264452Z",
     "iopub.status.busy": "2023-11-12T19:18:56.263566Z",
     "iopub.status.idle": "2023-11-12T19:18:56.272557Z",
     "shell.execute_reply": "2023-11-12T19:18:56.271734Z",
     "shell.execute_reply.started": "2023-11-12T19:18:56.264418Z"
    }
   },
   "outputs": [
    {
     "data": {
      "text/plain": [
       "[[[0, 0, 0], [0, -r, 0], [0, 0, -r*sin(th)^2]],\n",
       " [[0, 1/r, 0], [1/r, 0, 0], [0, 0, -cos(th)*sin(th)]],\n",
       " [[0, 0, 1/r], [0, 0, cos(th)/sin(th)], [1/r, cos(th)/sin(th), 0]]]"
      ]
     },
     "execution_count": 19,
     "metadata": {},
     "output_type": "execute_result"
    }
   ],
   "source": [
    "sage: nab.coef()[:]  # display as a array"
   ]
  },
  {
   "cell_type": "code",
   "execution_count": 20,
   "id": "099d8379-91ed-4aa4-af6d-c117a70c1d02",
   "metadata": {
    "execution": {
     "iopub.execute_input": "2023-11-12T19:18:56.906049Z",
     "iopub.status.busy": "2023-11-12T19:18:56.905292Z",
     "iopub.status.idle": "2023-11-12T19:18:56.913934Z",
     "shell.execute_reply": "2023-11-12T19:18:56.913153Z",
     "shell.execute_reply.started": "2023-11-12T19:18:56.906017Z"
    }
   },
   "outputs": [
    {
     "data": {
      "text/latex": [
       "$\\displaystyle \\left[\\left[\\left[0, 0, 0\\right], \\left[0, -r, 0\\right], \\left[0, 0, -r \\sin\\left({\\theta}\\right)^{2}\\right]\\right], \\left[\\left[0, \\frac{1}{r}, 0\\right], \\left[\\frac{1}{r}, 0, 0\\right], \\left[0, 0, -\\cos\\left({\\theta}\\right) \\sin\\left({\\theta}\\right)\\right]\\right], \\left[\\left[0, 0, \\frac{1}{r}\\right], \\left[0, 0, \\frac{\\cos\\left({\\theta}\\right)}{\\sin\\left({\\theta}\\right)}\\right], \\left[\\frac{1}{r}, \\frac{\\cos\\left({\\theta}\\right)}{\\sin\\left({\\theta}\\right)}, 0\\right]\\right]\\right]$"
      ],
      "text/plain": [
       "<IPython.core.display.Math object>"
      ]
     },
     "metadata": {},
     "output_type": "display_data"
    }
   ],
   "source": [
    "show_latex(nab.coef()[:])"
   ]
  },
  {
   "cell_type": "code",
   "execution_count": 21,
   "id": "89c3e7c4-a244-431f-845e-dafce6f6348c",
   "metadata": {
    "execution": {
     "iopub.execute_input": "2023-11-12T19:18:57.295934Z",
     "iopub.status.busy": "2023-11-12T19:18:57.295061Z",
     "iopub.status.idle": "2023-11-12T19:18:57.304074Z",
     "shell.execute_reply": "2023-11-12T19:18:57.303063Z",
     "shell.execute_reply.started": "2023-11-12T19:18:57.295896Z"
    }
   },
   "outputs": [
    {
     "data": {
      "text/plain": [
       "Gam^r_th,th = -r \n",
       "Gam^r_ph,ph = -r*sin(th)^2 \n",
       "Gam^th_r,th = 1/r \n",
       "Gam^th_th,r = 1/r \n",
       "Gam^th_ph,ph = -cos(th)*sin(th) \n",
       "Gam^ph_r,ph = 1/r \n",
       "Gam^ph_th,ph = cos(th)/sin(th) \n",
       "Gam^ph_ph,r = 1/r \n",
       "Gam^ph_ph,th = cos(th)/sin(th) "
      ]
     },
     "execution_count": 21,
     "metadata": {},
     "output_type": "execute_result"
    }
   ],
   "source": [
    "sage: nab.display()  # display only the non-vanishing symbols"
   ]
  },
  {
   "cell_type": "code",
   "execution_count": 22,
   "id": "d8563efb-027a-40ff-80b4-d6d5f5e3dd0a",
   "metadata": {
    "execution": {
     "iopub.execute_input": "2023-11-12T19:18:58.180841Z",
     "iopub.status.busy": "2023-11-12T19:18:58.180077Z",
     "iopub.status.idle": "2023-11-12T19:18:58.188625Z",
     "shell.execute_reply": "2023-11-12T19:18:58.187913Z",
     "shell.execute_reply.started": "2023-11-12T19:18:58.180809Z"
    }
   },
   "outputs": [
    {
     "data": {
      "text/latex": [
       "$\\displaystyle \\begin{array}{lcl} \\Gamma_{ \\phantom{\\, r} \\, {\\theta} \\, {\\theta} }^{ \\, r \\phantom{\\, {\\theta}} \\phantom{\\, {\\theta}} } & = & -r \\\\ \\Gamma_{ \\phantom{\\, r} \\, {\\phi} \\, {\\phi} }^{ \\, r \\phantom{\\, {\\phi}} \\phantom{\\, {\\phi}} } & = & -r \\sin\\left({\\theta}\\right)^{2} \\\\ \\Gamma_{ \\phantom{\\, {\\theta}} \\, r \\, {\\theta} }^{ \\, {\\theta} \\phantom{\\, r} \\phantom{\\, {\\theta}} } & = & \\frac{1}{r} \\\\ \\Gamma_{ \\phantom{\\, {\\theta}} \\, {\\theta} \\, r }^{ \\, {\\theta} \\phantom{\\, {\\theta}} \\phantom{\\, r} } & = & \\frac{1}{r} \\\\ \\Gamma_{ \\phantom{\\, {\\theta}} \\, {\\phi} \\, {\\phi} }^{ \\, {\\theta} \\phantom{\\, {\\phi}} \\phantom{\\, {\\phi}} } & = & -\\cos\\left({\\theta}\\right) \\sin\\left({\\theta}\\right) \\\\ \\Gamma_{ \\phantom{\\, {\\phi}} \\, r \\, {\\phi} }^{ \\, {\\phi} \\phantom{\\, r} \\phantom{\\, {\\phi}} } & = & \\frac{1}{r} \\\\ \\Gamma_{ \\phantom{\\, {\\phi}} \\, {\\theta} \\, {\\phi} }^{ \\, {\\phi} \\phantom{\\, {\\theta}} \\phantom{\\, {\\phi}} } & = & \\frac{\\cos\\left({\\theta}\\right)}{\\sin\\left({\\theta}\\right)} \\\\ \\Gamma_{ \\phantom{\\, {\\phi}} \\, {\\phi} \\, r }^{ \\, {\\phi} \\phantom{\\, {\\phi}} \\phantom{\\, r} } & = & \\frac{1}{r} \\\\ \\Gamma_{ \\phantom{\\, {\\phi}} \\, {\\phi} \\, {\\theta} }^{ \\, {\\phi} \\phantom{\\, {\\phi}} \\phantom{\\, {\\theta}} } & = & \\frac{\\cos\\left({\\theta}\\right)}{\\sin\\left({\\theta}\\right)} \\end{array}$"
      ],
      "text/plain": [
       "<IPython.core.display.Math object>"
      ]
     },
     "metadata": {},
     "output_type": "display_data"
    }
   ],
   "source": [
    "show_latex(nab.display())"
   ]
  },
  {
   "cell_type": "code",
   "execution_count": 23,
   "id": "604fd5a9-3c90-41b5-accf-2f04fb485fa3",
   "metadata": {
    "execution": {
     "iopub.execute_input": "2023-11-12T19:18:58.897558Z",
     "iopub.status.busy": "2023-11-12T19:18:58.896506Z",
     "iopub.status.idle": "2023-11-12T19:18:58.905105Z",
     "shell.execute_reply": "2023-11-12T19:18:58.904208Z",
     "shell.execute_reply.started": "2023-11-12T19:18:58.897505Z"
    }
   },
   "outputs": [
    {
     "data": {
      "text/plain": [
       "Gam^r_th,th = -r \n",
       "Gam^r_ph,ph = -r*sin(th)^2 \n",
       "Gam^th_r,th = 1/r \n",
       "Gam^th_ph,ph = -cos(th)*sin(th) \n",
       "Gam^ph_r,ph = 1/r \n",
       "Gam^ph_th,ph = cos(th)/sin(th) "
      ]
     },
     "execution_count": 23,
     "metadata": {},
     "output_type": "execute_result"
    }
   ],
   "source": [
    "sage: nab.display(only_nonredundant=True)"
   ]
  },
  {
   "cell_type": "code",
   "execution_count": 24,
   "id": "dd1d8b01-a05b-42ce-82fe-13692de3a972",
   "metadata": {},
   "outputs": [
    {
     "data": {
      "text/plain": [
       "Gam^r_th,th = -r \n",
       "Gam^r_ph,ph = -r*sin(th)^2 \n",
       "Gam^th_r,th = 1/r \n",
       "Gam^th_ph,ph = -cos(th)*sin(th) \n",
       "Gam^ph_r,ph = 1/r \n",
       "Gam^ph_th,ph = cos(th)/sin(th) "
      ]
     },
     "execution_count": 24,
     "metadata": {},
     "output_type": "execute_result"
    }
   ],
   "source": [
    "sage: g.christoffel_symbols_display(chart=c_spher)"
   ]
  },
  {
   "cell_type": "code",
   "execution_count": 25,
   "id": "bfdc6b13-f32c-4bf2-9886-c137da774d63",
   "metadata": {},
   "outputs": [
    {
     "data": {
      "text/latex": [
       "$\\displaystyle \\begin{array}{lcl} \\Gamma_{ \\phantom{\\, r} \\, {\\theta} \\, {\\theta} }^{ \\, r \\phantom{\\, {\\theta}} \\phantom{\\, {\\theta}} } & = & -r \\\\ \\Gamma_{ \\phantom{\\, r} \\, {\\phi} \\, {\\phi} }^{ \\, r \\phantom{\\, {\\phi}} \\phantom{\\, {\\phi}} } & = & -r \\sin\\left({\\theta}\\right)^{2} \\\\ \\Gamma_{ \\phantom{\\, {\\theta}} \\, r \\, {\\theta} }^{ \\, {\\theta} \\phantom{\\, r} \\phantom{\\, {\\theta}} } & = & \\frac{1}{r} \\\\ \\Gamma_{ \\phantom{\\, {\\theta}} \\, {\\phi} \\, {\\phi} }^{ \\, {\\theta} \\phantom{\\, {\\phi}} \\phantom{\\, {\\phi}} } & = & -\\cos\\left({\\theta}\\right) \\sin\\left({\\theta}\\right) \\\\ \\Gamma_{ \\phantom{\\, {\\phi}} \\, r \\, {\\phi} }^{ \\, {\\phi} \\phantom{\\, r} \\phantom{\\, {\\phi}} } & = & \\frac{1}{r} \\\\ \\Gamma_{ \\phantom{\\, {\\phi}} \\, {\\theta} \\, {\\phi} }^{ \\, {\\phi} \\phantom{\\, {\\theta}} \\phantom{\\, {\\phi}} } & = & \\frac{\\cos\\left({\\theta}\\right)}{\\sin\\left({\\theta}\\right)} \\end{array}$"
      ],
      "text/plain": [
       "<IPython.core.display.Math object>"
      ]
     },
     "metadata": {},
     "output_type": "display_data"
    }
   ],
   "source": [
    "display(Math(latex(g.christoffel_symbols_display(chart=c_spher))))"
   ]
  },
  {
   "cell_type": "code",
   "execution_count": null,
   "id": "8c6ecbaa-597c-4116-ac89-0617eb623b4f",
   "metadata": {},
   "outputs": [],
   "source": []
  },
  {
   "cell_type": "code",
   "execution_count": null,
   "id": "395e218a-de9d-4217-a00b-6f97e8087c80",
   "metadata": {},
   "outputs": [],
   "source": []
  },
  {
   "cell_type": "code",
   "execution_count": null,
   "id": "4da4588b-8b48-4416-861b-3215e1ce8279",
   "metadata": {},
   "outputs": [],
   "source": []
  }
 ],
 "metadata": {
  "kernelspec": {
   "display_name": "SageMath 10.0",
   "language": "sage",
   "name": "sagemath"
  },
  "language_info": {
   "codemirror_mode": {
    "name": "ipython",
    "version": 3
   },
   "file_extension": ".py",
   "mimetype": "text/x-python",
   "name": "python",
   "nbconvert_exporter": "python",
   "pygments_lexer": "ipython3",
   "version": "3.10.12"
  }
 },
 "nbformat": 4,
 "nbformat_minor": 5
}
