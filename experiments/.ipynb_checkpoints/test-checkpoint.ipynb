{
 "cells": [
  {
   "cell_type": "code",
   "execution_count": 1,
   "id": "51ad1943-c791-4c29-901c-d11dc0afebe9",
   "metadata": {
    "execution": {
     "iopub.execute_input": "2023-11-12T19:25:25.589239Z",
     "iopub.status.busy": "2023-11-12T19:25:25.581457Z",
     "iopub.status.idle": "2023-11-12T19:25:29.527925Z",
     "shell.execute_reply": "2023-11-12T19:25:29.525256Z",
     "shell.execute_reply.started": "2023-11-12T19:25:25.589162Z"
    }
   },
   "outputs": [],
   "source": [
    "import matplotlib.pyplot as plt\n",
    "import numpy as np\n",
    "from sage.manifolds.operators import *\n",
    "from sage.manifolds.differentiable.manifold import DifferentiableManifold\n",
    "from sage.manifolds.differentiable.vectorfield import VectorField"
   ]
  },
  {
   "cell_type": "code",
   "execution_count": 2,
   "id": "7be0721a-a2c5-4c33-8384-fd5a33b4a8be",
   "metadata": {
    "execution": {
     "iopub.execute_input": "2023-11-12T19:25:30.399543Z",
     "iopub.status.busy": "2023-11-12T19:25:30.398419Z",
     "iopub.status.idle": "2023-11-12T19:25:30.430512Z",
     "shell.execute_reply": "2023-11-12T19:25:30.429474Z",
     "shell.execute_reply.started": "2023-11-12T19:25:30.399399Z"
    }
   },
   "outputs": [],
   "source": [
    "# Define the 2D sphere S^2\n",
    "S2 = Manifold(2, 'S^2', field='real', structure='Riemannian')"
   ]
  },
  {
   "cell_type": "code",
   "execution_count": 3,
   "id": "0766ccb3-6b38-498b-9e64-28aced7f6690",
   "metadata": {
    "execution": {
     "iopub.execute_input": "2023-11-12T19:25:30.442660Z",
     "iopub.status.busy": "2023-11-12T19:25:30.441522Z",
     "iopub.status.idle": "2023-11-12T19:25:30.453692Z",
     "shell.execute_reply": "2023-11-12T19:25:30.451923Z",
     "shell.execute_reply.started": "2023-11-12T19:25:30.442618Z"
    }
   },
   "outputs": [],
   "source": [
    "U = S2.open_subset('U')  # An open subset covering the sphere except for one point"
   ]
  },
  {
   "cell_type": "code",
   "execution_count": 4,
   "id": "1f1cba8d-ee80-4249-8e40-50089bf2b03e",
   "metadata": {
    "execution": {
     "iopub.execute_input": "2023-11-12T19:25:30.462290Z",
     "iopub.status.busy": "2023-11-12T19:25:30.461211Z",
     "iopub.status.idle": "2023-11-12T19:25:33.418255Z",
     "shell.execute_reply": "2023-11-12T19:25:33.417057Z",
     "shell.execute_reply.started": "2023-11-12T19:25:30.462232Z"
    }
   },
   "outputs": [],
   "source": [
    "spher.<theta, phi> = U.chart(r'theta:(0,pi):\\theta phi:(0,2*pi):\\phi')"
   ]
  },
  {
   "cell_type": "code",
   "execution_count": 5,
   "id": "da57752f-8de7-4913-b9fb-e87c2d6ab57d",
   "metadata": {
    "execution": {
     "iopub.execute_input": "2023-11-12T19:25:33.428723Z",
     "iopub.status.busy": "2023-11-12T19:25:33.426683Z",
     "iopub.status.idle": "2023-11-12T19:25:33.451992Z",
     "shell.execute_reply": "2023-11-12T19:25:33.451104Z",
     "shell.execute_reply.started": "2023-11-12T19:25:33.428674Z"
    }
   },
   "outputs": [],
   "source": [
    "# The Riemannian metric for the 2D sphere of radius 1\n",
    "g = S2.riemannian_metric('g')"
   ]
  },
  {
   "cell_type": "code",
   "execution_count": 6,
   "id": "a8e21bdc-6197-4855-93f5-5cf1789230ba",
   "metadata": {
    "execution": {
     "iopub.execute_input": "2023-11-12T19:25:33.460125Z",
     "iopub.status.busy": "2023-11-12T19:25:33.458947Z",
     "iopub.status.idle": "2023-11-12T19:25:33.474767Z",
     "shell.execute_reply": "2023-11-12T19:25:33.473055Z",
     "shell.execute_reply.started": "2023-11-12T19:25:33.460076Z"
    }
   },
   "outputs": [],
   "source": [
    "g[0,0], g[1,1] = 1, sin(spher[0])^2"
   ]
  },
  {
   "cell_type": "code",
   "execution_count": 7,
   "id": "37aca798-4f90-4c9a-a27f-8a891a0161e6",
   "metadata": {
    "execution": {
     "iopub.execute_input": "2023-11-12T19:25:33.483495Z",
     "iopub.status.busy": "2023-11-12T19:25:33.481864Z",
     "iopub.status.idle": "2023-11-12T19:25:33.498033Z",
     "shell.execute_reply": "2023-11-12T19:25:33.496197Z",
     "shell.execute_reply.started": "2023-11-12T19:25:33.483444Z"
    }
   },
   "outputs": [],
   "source": [
    "# Define a point p on the sphere\n",
    "p = U((pi/4, pi/2), name='p')"
   ]
  },
  {
   "cell_type": "code",
   "execution_count": 8,
   "id": "02d112e8-9abb-40d4-9ff4-07faec432f4c",
   "metadata": {
    "execution": {
     "iopub.execute_input": "2023-11-12T19:25:33.512042Z",
     "iopub.status.busy": "2023-11-12T19:25:33.509925Z",
     "iopub.status.idle": "2023-11-12T19:25:33.548739Z",
     "shell.execute_reply": "2023-11-12T19:25:33.546937Z",
     "shell.execute_reply.started": "2023-11-12T19:25:33.511885Z"
    }
   },
   "outputs": [],
   "source": [
    "c = U.curve([pi/2, spher[1]], (spher[1], 0, 2*pi), name='c')"
   ]
  },
  {
   "cell_type": "code",
   "execution_count": 9,
   "id": "cc075b76-bd35-4808-a5e2-58375191d80d",
   "metadata": {
    "execution": {
     "iopub.execute_input": "2023-11-12T19:25:33.563131Z",
     "iopub.status.busy": "2023-11-12T19:25:33.561467Z",
     "iopub.status.idle": "2023-11-12T19:25:35.057420Z",
     "shell.execute_reply": "2023-11-12T19:25:35.056323Z",
     "shell.execute_reply.started": "2023-11-12T19:25:33.563013Z"
    }
   },
   "outputs": [],
   "source": [
    "# Plot the point and the geodesic\n",
    "plot = spher.plot(chart=spher, ambient_coords=(theta, phi), ranges={theta: (0, pi), phi: (0, 2*pi)})\n",
    "plot += p.plot(chart=spher, size=4, color='red', label='p')\n",
    "plot += c.plot(chart=spher, color='blue', label='c', thickness=2)"
   ]
  },
  {
   "cell_type": "code",
   "execution_count": 56,
   "id": "8254677e-180e-4567-a340-5f2f9822c209",
   "metadata": {
    "execution": {
     "iopub.execute_input": "2023-11-12T19:17:18.270568Z",
     "iopub.status.busy": "2023-11-12T19:17:18.269732Z",
     "iopub.status.idle": "2023-11-12T19:17:18.469717Z",
     "shell.execute_reply": "2023-11-12T19:17:18.469376Z",
     "shell.execute_reply.started": "2023-11-12T19:17:18.270533Z"
    }
   },
   "outputs": [
    {
     "data": {
      "image/png": "[encoded data removed]",
      "text/plain": [
       "Graphics object consisting of 21 graphics primitives"
      ]
     },
     "metadata": {},
     "output_type": "display_data"
    }
   ],
   "source": [
    "plot.show()"
   ]
  },
  {
   "cell_type": "code",
   "execution_count": 10,
   "id": "4f1aa987-4045-4416-840a-eb85c63291fd",
   "metadata": {
    "execution": {
     "iopub.execute_input": "2023-11-12T18:29:10.346401Z",
     "iopub.status.busy": "2023-11-12T18:29:10.346225Z",
     "iopub.status.idle": "2023-11-12T18:29:10.348886Z",
     "shell.execute_reply": "2023-11-12T18:29:10.348452Z",
     "shell.execute_reply.started": "2023-11-12T18:29:10.346387Z"
    }
   },
   "outputs": [],
   "source": [
    "# Generate and plot geodesics from p with different initial directions\n",
    "num_geodesics = 5"
   ]
  },
  {
   "cell_type": "code",
   "execution_count": null,
   "id": "ee76dd4a-674c-40a8-91f2-9dc19510497c",
   "metadata": {},
   "outputs": [],
   "source": [
    "U.inte"
   ]
  },
  {
   "cell_type": "code",
   "execution_count": 26,
   "id": "fe3a1cc3-fd09-426b-ab63-40ad7ca00521",
   "metadata": {
    "execution": {
     "iopub.execute_input": "2023-11-12T18:47:23.296487Z",
     "iopub.status.busy": "2023-11-12T18:47:23.295332Z",
     "iopub.status.idle": "2023-11-12T18:47:23.302729Z",
     "shell.execute_reply": "2023-11-12T18:47:23.301289Z",
     "shell.execute_reply.started": "2023-11-12T18:47:23.296444Z"
    }
   },
   "outputs": [],
   "source": [
    "v = U.vector_field(name='v')"
   ]
  },
  {
   "cell_type": "code",
   "execution_count": 29,
   "id": "7f9a9341-7777-45a9-ab68-9d172c6db22e",
   "metadata": {
    "execution": {
     "iopub.execute_input": "2023-11-12T18:47:50.880963Z",
     "iopub.status.busy": "2023-11-12T18:47:50.880053Z",
     "iopub.status.idle": "2023-11-12T18:47:50.886265Z",
     "shell.execute_reply": "2023-11-12T18:47:50.885535Z",
     "shell.execute_reply.started": "2023-11-12T18:47:50.880922Z"
    }
   },
   "outputs": [],
   "source": [
    "t = var('t')"
   ]
  },
  {
   "cell_type": "code",
   "execution_count": null,
   "id": "c5cdb0d6-152d-48b4-a02b-4de9469b2ac1",
   "metadata": {},
   "outputs": [],
   "source": []
  },
  {
   "cell_type": "code",
   "execution_count": 43,
   "id": "b886507c-1a8d-49cc-b531-d60572c4b924",
   "metadata": {
    "execution": {
     "iopub.execute_input": "2023-11-12T18:58:50.017614Z",
     "iopub.status.busy": "2023-11-12T18:58:50.016592Z",
     "iopub.status.idle": "2023-11-12T18:58:50.067774Z",
     "shell.execute_reply": "2023-11-12T18:58:50.066945Z",
     "shell.execute_reply.started": "2023-11-12T18:58:50.017575Z"
    }
   },
   "outputs": [
    {
     "ename": "AttributeError",
     "evalue": "'PseudoRiemannianManifold_with_category.element_class' object has no attribute 'tangent_space'",
     "output_type": "error",
     "traceback": [
      "\u001b[0;31m---------------------------------------------------------------------------\u001b[0m",
      "\u001b[0;31mAttributeError\u001b[0m                            Traceback (most recent call last)",
      "Cell \u001b[0;32mIn[43], line 1\u001b[0m\n\u001b[0;32m----> 1\u001b[0m tangent_vector_at_p \u001b[38;5;241m=\u001b[39m \u001b[43mp\u001b[49m\u001b[38;5;241;43m.\u001b[39;49m\u001b[43mtangent_space\u001b[49m()\u001b[38;5;241m.\u001b[39mvector([cos(i \u001b[38;5;241m*\u001b[39m Integer(\u001b[38;5;241m2\u001b[39m)\u001b[38;5;241m*\u001b[39mpi\u001b[38;5;241m/\u001b[39mnum_geodesics), sin(i \u001b[38;5;241m*\u001b[39m Integer(\u001b[38;5;241m2\u001b[39m)\u001b[38;5;241m*\u001b[39mpi\u001b[38;5;241m/\u001b[39mnum_geodesics)])\n",
      "File \u001b[0;32m~/micromamba/envs/math/lib/python3.10/site-packages/sage/structure/element.pyx:494\u001b[0m, in \u001b[0;36msage.structure.element.Element.__getattr__ (build/cythonized/sage/structure/element.c:4911)\u001b[0;34m()\u001b[0m\n\u001b[1;32m    492\u001b[0m         AttributeError: 'LeftZeroSemigroup_with_category.element_class' object has no attribute 'blah_blah'\n\u001b[1;32m    493\u001b[0m     \"\"\"\n\u001b[0;32m--> 494\u001b[0m     return self.getattr_from_category(name)\n\u001b[1;32m    495\u001b[0m \n\u001b[1;32m    496\u001b[0m cdef getattr_from_category(self, name):\n",
      "File \u001b[0;32m~/micromamba/envs/math/lib/python3.10/site-packages/sage/structure/element.pyx:507\u001b[0m, in \u001b[0;36msage.structure.element.Element.getattr_from_category (build/cythonized/sage/structure/element.c:5023)\u001b[0;34m()\u001b[0m\n\u001b[1;32m    505\u001b[0m     else:\n\u001b[1;32m    506\u001b[0m         cls = P._abstract_element_class\n\u001b[0;32m--> 507\u001b[0m     return getattr_from_other_class(self, cls, name)\n\u001b[1;32m    508\u001b[0m \n\u001b[1;32m    509\u001b[0m def __dir__(self):\n",
      "File \u001b[0;32m~/micromamba/envs/math/lib/python3.10/site-packages/sage/cpython/getattr.pyx:356\u001b[0m, in \u001b[0;36msage.cpython.getattr.getattr_from_other_class (build/cythonized/sage/cpython/getattr.c:2718)\u001b[0;34m()\u001b[0m\n\u001b[1;32m    354\u001b[0m     dummy_error_message.cls = type(self)\n\u001b[1;32m    355\u001b[0m     dummy_error_message.name = name\n\u001b[0;32m--> 356\u001b[0m     raise AttributeError(dummy_error_message)\n\u001b[1;32m    357\u001b[0m cdef PyObject* attr = instance_getattr(cls, name)\n\u001b[1;32m    358\u001b[0m if attr is NULL:\n",
      "\u001b[0;31mAttributeError\u001b[0m: 'PseudoRiemannianManifold_with_category.element_class' object has no attribute 'tangent_space'"
     ]
    }
   ],
   "source": [
    "tangent_vector_at_p = p.tangent_space().vector([cos(i * 2*pi/num_geodesics), sin(i * 2*pi/num_geodesics)])"
   ]
  },
  {
   "cell_type": "code",
   "execution_count": 42,
   "id": "32025be4-843c-4f0d-8dcb-c385fb703718",
   "metadata": {
    "execution": {
     "iopub.execute_input": "2023-11-12T18:55:32.961133Z",
     "iopub.status.busy": "2023-11-12T18:55:32.957813Z",
     "iopub.status.idle": "2023-11-12T18:55:33.021888Z",
     "shell.execute_reply": "2023-11-12T18:55:33.021024Z",
     "shell.execute_reply.started": "2023-11-12T18:55:32.961064Z"
    }
   },
   "outputs": [
    {
     "ename": "AttributeError",
     "evalue": "'TangentSpace_with_category' object has no attribute 'vector'",
     "output_type": "error",
     "traceback": [
      "\u001b[0;31m---------------------------------------------------------------------------\u001b[0m",
      "\u001b[0;31mKeyError\u001b[0m                                  Traceback (most recent call last)",
      "File \u001b[0;32m~/micromamba/envs/math/lib/python3.10/site-packages/sage/structure/category_object.pyx:839\u001b[0m, in \u001b[0;36msage.structure.category_object.CategoryObject.getattr_from_category (build/cythonized/sage/structure/category_object.c:7216)\u001b[0;34m()\u001b[0m\n\u001b[1;32m    838\u001b[0m try:\n\u001b[0;32m--> 839\u001b[0m     return self.__cached_methods[name]\n\u001b[1;32m    840\u001b[0m except KeyError:\n",
      "\u001b[0;31mKeyError\u001b[0m: 'vector'",
      "\nDuring handling of the above exception, another exception occurred:\n",
      "\u001b[0;31mAttributeError\u001b[0m                            Traceback (most recent call last)",
      "Cell \u001b[0;32mIn[42], line 1\u001b[0m\n\u001b[0;32m----> 1\u001b[0m \u001b[43mU\u001b[49m\u001b[38;5;241;43m.\u001b[39;49m\u001b[43mtangent_space\u001b[49m\u001b[43m(\u001b[49m\u001b[43mp\u001b[49m\u001b[43m)\u001b[49m\u001b[38;5;241;43m.\u001b[39;49m\u001b[43mvector\u001b[49m([cos(i \u001b[38;5;241m*\u001b[39m Integer(\u001b[38;5;241m2\u001b[39m)\u001b[38;5;241m*\u001b[39mpi\u001b[38;5;241m/\u001b[39mnum_geodesics), sin(i \u001b[38;5;241m*\u001b[39m Integer(\u001b[38;5;241m2\u001b[39m)\u001b[38;5;241m*\u001b[39mpi\u001b[38;5;241m/\u001b[39mnum_geodesics)])\n",
      "File \u001b[0;32m~/micromamba/envs/math/lib/python3.10/site-packages/sage/structure/category_object.pyx:833\u001b[0m, in \u001b[0;36msage.structure.category_object.CategoryObject.__getattr__ (build/cythonized/sage/structure/category_object.c:7135)\u001b[0;34m()\u001b[0m\n\u001b[1;32m    831\u001b[0m         AttributeError: 'PrimeNumbers_with_category' object has no attribute 'sadfasdf'\n\u001b[1;32m    832\u001b[0m     \"\"\"\n\u001b[0;32m--> 833\u001b[0m     return self.getattr_from_category(name)\n\u001b[1;32m    834\u001b[0m \n\u001b[1;32m    835\u001b[0m cdef getattr_from_category(self, name):\n",
      "File \u001b[0;32m~/micromamba/envs/math/lib/python3.10/site-packages/sage/structure/category_object.pyx:848\u001b[0m, in \u001b[0;36msage.structure.category_object.CategoryObject.getattr_from_category (build/cythonized/sage/structure/category_object.c:7301)\u001b[0;34m()\u001b[0m\n\u001b[1;32m    846\u001b[0m     cls = self._category.parent_class\n\u001b[1;32m    847\u001b[0m \n\u001b[0;32m--> 848\u001b[0m attr = getattr_from_other_class(self, cls, name)\n\u001b[1;32m    849\u001b[0m self.__cached_methods[name] = attr\n\u001b[1;32m    850\u001b[0m return attr\n",
      "File \u001b[0;32m~/micromamba/envs/math/lib/python3.10/site-packages/sage/cpython/getattr.pyx:356\u001b[0m, in \u001b[0;36msage.cpython.getattr.getattr_from_other_class (build/cythonized/sage/cpython/getattr.c:2718)\u001b[0;34m()\u001b[0m\n\u001b[1;32m    354\u001b[0m     dummy_error_message.cls = type(self)\n\u001b[1;32m    355\u001b[0m     dummy_error_message.name = name\n\u001b[0;32m--> 356\u001b[0m     raise AttributeError(dummy_error_message)\n\u001b[1;32m    357\u001b[0m cdef PyObject* attr = instance_getattr(cls, name)\n\u001b[1;32m    358\u001b[0m if attr is NULL:\n",
      "\u001b[0;31mAttributeError\u001b[0m: 'TangentSpace_with_category' object has no attribute 'vector'"
     ]
    }
   ],
   "source": [
    "U.tangent_space(p)"
   ]
  },
  {
   "cell_type": "code",
   "execution_count": 40,
   "id": "1e68a676-409a-44f5-89c2-dceb9bf77183",
   "metadata": {
    "execution": {
     "iopub.execute_input": "2023-11-12T18:54:18.123836Z",
     "iopub.status.busy": "2023-11-12T18:54:18.123025Z",
     "iopub.status.idle": "2023-11-12T18:54:18.181494Z",
     "shell.execute_reply": "2023-11-12T18:54:18.180833Z",
     "shell.execute_reply.started": "2023-11-12T18:54:18.123807Z"
    }
   },
   "outputs": [
    {
     "ename": "AttributeError",
     "evalue": "'PseudoRiemannianManifold_with_category.element_class' object has no attribute 'tangent_space'",
     "output_type": "error",
     "traceback": [
      "\u001b[0;31m---------------------------------------------------------------------------\u001b[0m",
      "\u001b[0;31mAttributeError\u001b[0m                            Traceback (most recent call last)",
      "Cell \u001b[0;32mIn[40], line 1\u001b[0m\n\u001b[0;32m----> 1\u001b[0m tangent_vector_at_p \u001b[38;5;241m=\u001b[39m \u001b[43mp\u001b[49m\u001b[38;5;241;43m.\u001b[39;49m\u001b[43mtangent_space\u001b[49m()\u001b[38;5;241m.\u001b[39mvector([cos(i \u001b[38;5;241m*\u001b[39m Integer(\u001b[38;5;241m2\u001b[39m)\u001b[38;5;241m*\u001b[39mpi\u001b[38;5;241m/\u001b[39mnum_geodesics), sin(i \u001b[38;5;241m*\u001b[39m Integer(\u001b[38;5;241m2\u001b[39m)\u001b[38;5;241m*\u001b[39mpi\u001b[38;5;241m/\u001b[39mnum_geodesics)])\n",
      "File \u001b[0;32m~/micromamba/envs/math/lib/python3.10/site-packages/sage/structure/element.pyx:494\u001b[0m, in \u001b[0;36msage.structure.element.Element.__getattr__ (build/cythonized/sage/structure/element.c:4911)\u001b[0;34m()\u001b[0m\n\u001b[1;32m    492\u001b[0m         AttributeError: 'LeftZeroSemigroup_with_category.element_class' object has no attribute 'blah_blah'\n\u001b[1;32m    493\u001b[0m     \"\"\"\n\u001b[0;32m--> 494\u001b[0m     return self.getattr_from_category(name)\n\u001b[1;32m    495\u001b[0m \n\u001b[1;32m    496\u001b[0m cdef getattr_from_category(self, name):\n",
      "File \u001b[0;32m~/micromamba/envs/math/lib/python3.10/site-packages/sage/structure/element.pyx:507\u001b[0m, in \u001b[0;36msage.structure.element.Element.getattr_from_category (build/cythonized/sage/structure/element.c:5023)\u001b[0;34m()\u001b[0m\n\u001b[1;32m    505\u001b[0m     else:\n\u001b[1;32m    506\u001b[0m         cls = P._abstract_element_class\n\u001b[0;32m--> 507\u001b[0m     return getattr_from_other_class(self, cls, name)\n\u001b[1;32m    508\u001b[0m \n\u001b[1;32m    509\u001b[0m def __dir__(self):\n",
      "File \u001b[0;32m~/micromamba/envs/math/lib/python3.10/site-packages/sage/cpython/getattr.pyx:356\u001b[0m, in \u001b[0;36msage.cpython.getattr.getattr_from_other_class (build/cythonized/sage/cpython/getattr.c:2718)\u001b[0;34m()\u001b[0m\n\u001b[1;32m    354\u001b[0m     dummy_error_message.cls = type(self)\n\u001b[1;32m    355\u001b[0m     dummy_error_message.name = name\n\u001b[0;32m--> 356\u001b[0m     raise AttributeError(dummy_error_message)\n\u001b[1;32m    357\u001b[0m cdef PyObject* attr = instance_getattr(cls, name)\n\u001b[1;32m    358\u001b[0m if attr is NULL:\n",
      "\u001b[0;31mAttributeError\u001b[0m: 'PseudoRiemannianManifold_with_category.element_class' object has no attribute 'tangent_space'"
     ]
    }
   ],
   "source": [
    "tangent_vector_at_p = p.tangent_space().vector([cos(i * 2*pi/num_geodesics), sin(i * 2*pi/num_geodesics)])"
   ]
  },
  {
   "cell_type": "code",
   "execution_count": 39,
   "id": "e5bf63e7-ac9b-4805-98ff-42e0962c831e",
   "metadata": {
    "execution": {
     "iopub.execute_input": "2023-11-12T18:54:15.981343Z",
     "iopub.status.busy": "2023-11-12T18:54:15.980448Z",
     "iopub.status.idle": "2023-11-12T18:54:16.014380Z",
     "shell.execute_reply": "2023-11-12T18:54:16.013602Z",
     "shell.execute_reply.started": "2023-11-12T18:54:15.981312Z"
    }
   },
   "outputs": [
    {
     "ename": "NameError",
     "evalue": "name 'tangent_vector_at_p' is not defined",
     "output_type": "error",
     "traceback": [
      "\u001b[0;31m---------------------------------------------------------------------------\u001b[0m",
      "\u001b[0;31mNameError\u001b[0m                                 Traceback (most recent call last)",
      "Cell \u001b[0;32mIn[39], line 1\u001b[0m\n\u001b[0;32m----> 1\u001b[0m geod \u001b[38;5;241m=\u001b[39m U\u001b[38;5;241m.\u001b[39mintegrated_geodesic(g, (t, Integer(\u001b[38;5;241m0\u001b[39m), pi), \u001b[43mtangent_vector_at_p\u001b[49m, name\u001b[38;5;241m=\u001b[39m\u001b[38;5;124m'\u001b[39m\u001b[38;5;124mgeod_\u001b[39m\u001b[38;5;132;01m{}\u001b[39;00m\u001b[38;5;124m'\u001b[39m\u001b[38;5;241m.\u001b[39mformat(i))\n",
      "\u001b[0;31mNameError\u001b[0m: name 'tangent_vector_at_p' is not defined"
     ]
    }
   ],
   "source": [
    "geod = U.integrated_geodesic(g, (t, 0, pi), tangent_vector_at_p, name='geod_{}'.format(i))"
   ]
  },
  {
   "cell_type": "code",
   "execution_count": null,
   "id": "87a48d6a-a880-4a0f-9caa-3a46efd92fba",
   "metadata": {},
   "outputs": [],
   "source": []
  },
  {
   "cell_type": "code",
   "execution_count": null,
   "id": "12660bb5-16db-44e3-900e-ef22ee623139",
   "metadata": {},
   "outputs": [],
   "source": [
    "U.integrated_g"
   ]
  },
  {
   "cell_type": "code",
   "execution_count": 45,
   "id": "1261b0d6-86d3-4463-ae77-5ad28e509181",
   "metadata": {
    "execution": {
     "iopub.execute_input": "2023-11-12T19:00:54.062364Z",
     "iopub.status.busy": "2023-11-12T19:00:54.061178Z",
     "iopub.status.idle": "2023-11-12T19:00:54.127164Z",
     "shell.execute_reply": "2023-11-12T19:00:54.126550Z",
     "shell.execute_reply.started": "2023-11-12T19:00:54.062318Z"
    }
   },
   "outputs": [
    {
     "ename": "AttributeError",
     "evalue": "'PseudoRiemannianManifold_with_category' object has no attribute 'integral_curve'",
     "output_type": "error",
     "traceback": [
      "\u001b[0;31m---------------------------------------------------------------------------\u001b[0m",
      "\u001b[0;31mKeyError\u001b[0m                                  Traceback (most recent call last)",
      "File \u001b[0;32m~/micromamba/envs/math/lib/python3.10/site-packages/sage/structure/category_object.pyx:839\u001b[0m, in \u001b[0;36msage.structure.category_object.CategoryObject.getattr_from_category (build/cythonized/sage/structure/category_object.c:7216)\u001b[0;34m()\u001b[0m\n\u001b[1;32m    838\u001b[0m try:\n\u001b[0;32m--> 839\u001b[0m     return self.__cached_methods[name]\n\u001b[1;32m    840\u001b[0m except KeyError:\n",
      "\u001b[0;31mKeyError\u001b[0m: 'integral_curve'",
      "\nDuring handling of the above exception, another exception occurred:\n",
      "\u001b[0;31mAttributeError\u001b[0m                            Traceback (most recent call last)",
      "Cell \u001b[0;32mIn[45], line 8\u001b[0m\n\u001b[1;32m      5\u001b[0m v \u001b[38;5;241m=\u001b[39m S2\u001b[38;5;241m.\u001b[39mtangent_vector(p,[cos(i \u001b[38;5;241m*\u001b[39m Integer(\u001b[38;5;241m2\u001b[39m)\u001b[38;5;241m*\u001b[39mpi\u001b[38;5;241m/\u001b[39mnum_geodesics), sin(i \u001b[38;5;241m*\u001b[39m Integer(\u001b[38;5;241m2\u001b[39m)\u001b[38;5;241m*\u001b[39mpi\u001b[38;5;241m/\u001b[39mnum_geodesics)])\n\u001b[1;32m      7\u001b[0m \u001b[38;5;66;03m# Generate the geodesic from p with initial vector v\u001b[39;00m\n\u001b[0;32m----> 8\u001b[0m geod \u001b[38;5;241m=\u001b[39m \u001b[43mU\u001b[49m\u001b[38;5;241;43m.\u001b[39;49m\u001b[43mintegral_curve\u001b[49m(g, v, (Integer(\u001b[38;5;241m0\u001b[39m), pi), p, name\u001b[38;5;241m=\u001b[39m\u001b[38;5;124m'\u001b[39m\u001b[38;5;124mgeod_\u001b[39m\u001b[38;5;132;01m{}\u001b[39;00m\u001b[38;5;124m'\u001b[39m\u001b[38;5;241m.\u001b[39mformat(i))\n\u001b[1;32m     10\u001b[0m \u001b[38;5;66;03m# Plot the geodesic\u001b[39;00m\n\u001b[1;32m     11\u001b[0m plot \u001b[38;5;241m+\u001b[39m\u001b[38;5;241m=\u001b[39m geod\u001b[38;5;241m.\u001b[39mplot(chart\u001b[38;5;241m=\u001b[39mspher, color\u001b[38;5;241m=\u001b[39m\u001b[38;5;124m'\u001b[39m\u001b[38;5;124mgreen\u001b[39m\u001b[38;5;124m'\u001b[39m, thickness\u001b[38;5;241m=\u001b[39mInteger(\u001b[38;5;241m1\u001b[39m))\n",
      "File \u001b[0;32m~/micromamba/envs/math/lib/python3.10/site-packages/sage/structure/category_object.pyx:833\u001b[0m, in \u001b[0;36msage.structure.category_object.CategoryObject.__getattr__ (build/cythonized/sage/structure/category_object.c:7135)\u001b[0;34m()\u001b[0m\n\u001b[1;32m    831\u001b[0m         AttributeError: 'PrimeNumbers_with_category' object has no attribute 'sadfasdf'\n\u001b[1;32m    832\u001b[0m     \"\"\"\n\u001b[0;32m--> 833\u001b[0m     return self.getattr_from_category(name)\n\u001b[1;32m    834\u001b[0m \n\u001b[1;32m    835\u001b[0m cdef getattr_from_category(self, name):\n",
      "File \u001b[0;32m~/micromamba/envs/math/lib/python3.10/site-packages/sage/structure/category_object.pyx:848\u001b[0m, in \u001b[0;36msage.structure.category_object.CategoryObject.getattr_from_category (build/cythonized/sage/structure/category_object.c:7301)\u001b[0;34m()\u001b[0m\n\u001b[1;32m    846\u001b[0m     cls = self._category.parent_class\n\u001b[1;32m    847\u001b[0m \n\u001b[0;32m--> 848\u001b[0m attr = getattr_from_other_class(self, cls, name)\n\u001b[1;32m    849\u001b[0m self.__cached_methods[name] = attr\n\u001b[1;32m    850\u001b[0m return attr\n",
      "File \u001b[0;32m~/micromamba/envs/math/lib/python3.10/site-packages/sage/cpython/getattr.pyx:356\u001b[0m, in \u001b[0;36msage.cpython.getattr.getattr_from_other_class (build/cythonized/sage/cpython/getattr.c:2718)\u001b[0;34m()\u001b[0m\n\u001b[1;32m    354\u001b[0m     dummy_error_message.cls = type(self)\n\u001b[1;32m    355\u001b[0m     dummy_error_message.name = name\n\u001b[0;32m--> 356\u001b[0m     raise AttributeError(dummy_error_message)\n\u001b[1;32m    357\u001b[0m cdef PyObject* attr = instance_getattr(cls, name)\n\u001b[1;32m    358\u001b[0m if attr is NULL:\n",
      "\u001b[0;31mAttributeError\u001b[0m: 'PseudoRiemannianManifold_with_category' object has no attribute 'integral_curve'"
     ]
    }
   ],
   "source": [
    "for i in range(num_geodesics):\n",
    "    # Initial tangent vector at p with varying direction\n",
    "    # v = U.vector_field(name='v')\n",
    "    # v[0], v[1] = cos(i * 2*pi/num_geodesics), sin(i * 2*pi/num_geodesics)\n",
    "    v = S2.tangent_vector(p,[cos(i * 2*pi/num_geodesics), sin(i * 2*pi/num_geodesics)])\n",
    "    \n",
    "    # Generate the geodesic from p with initial vector v\n",
    "    geod = U.integral_curve(g, v, (0, pi), p, name='geod_{}'.format(i))\n",
    "    \n",
    "    # Plot the geodesic\n",
    "    plot += geod.plot(chart=spher, color='green', thickness=1)\n",
    "\n",
    "plot.show()"
   ]
  },
  {
   "cell_type": "code",
   "execution_count": null,
   "id": "7d249237-268a-47a5-8466-363e2b5a5dc5",
   "metadata": {},
   "outputs": [],
   "source": []
  },
  {
   "cell_type": "code",
   "execution_count": null,
   "id": "a02d8d56-b0b9-4669-b94a-30f1760ba2d1",
   "metadata": {},
   "outputs": [],
   "source": []
  },
  {
   "cell_type": "code",
   "execution_count": 12,
   "id": "27404e52-467a-4917-b0cc-d1ab9e3276c0",
   "metadata": {
    "execution": {
     "iopub.execute_input": "2023-11-12T18:30:44.980336Z",
     "iopub.status.busy": "2023-11-12T18:30:44.979232Z",
     "iopub.status.idle": "2023-11-12T18:30:45.080459Z",
     "shell.execute_reply": "2023-11-12T18:30:45.079889Z",
     "shell.execute_reply.started": "2023-11-12T18:30:44.980203Z"
    }
   },
   "outputs": [
    {
     "ename": "ValueError",
     "evalue": "the argument 'curve_param' must be of the form (t, t_min, t_max)",
     "output_type": "error",
     "traceback": [
      "\u001b[0;31m---------------------------------------------------------------------------\u001b[0m",
      "\u001b[0;31mValueError\u001b[0m                                Traceback (most recent call last)",
      "Cell \u001b[0;32mIn[12], line 7\u001b[0m\n\u001b[1;32m      4\u001b[0m v[Integer(\u001b[38;5;241m0\u001b[39m)], v[Integer(\u001b[38;5;241m1\u001b[39m)] \u001b[38;5;241m=\u001b[39m cos(i \u001b[38;5;241m*\u001b[39m Integer(\u001b[38;5;241m2\u001b[39m)\u001b[38;5;241m*\u001b[39mpi\u001b[38;5;241m/\u001b[39mnum_geodesics), sin(i \u001b[38;5;241m*\u001b[39m Integer(\u001b[38;5;241m2\u001b[39m)\u001b[38;5;241m*\u001b[39mpi\u001b[38;5;241m/\u001b[39mnum_geodesics)\n\u001b[1;32m      6\u001b[0m \u001b[38;5;66;03m# Generate the geodesic from p with initial vector v\u001b[39;00m\n\u001b[0;32m----> 7\u001b[0m geod \u001b[38;5;241m=\u001b[39m \u001b[43mU\u001b[49m\u001b[38;5;241;43m.\u001b[39;49m\u001b[43mintegrated_curve\u001b[49m\u001b[43m(\u001b[49m\u001b[43mg\u001b[49m\u001b[43m,\u001b[49m\u001b[43m \u001b[49m\u001b[43mv\u001b[49m\u001b[43m,\u001b[49m\u001b[43m \u001b[49m\u001b[43m(\u001b[49m\u001b[43mInteger\u001b[49m\u001b[43m(\u001b[49m\u001b[38;5;241;43m0\u001b[39;49m\u001b[43m)\u001b[49m\u001b[43m,\u001b[49m\u001b[43m \u001b[49m\u001b[43mpi\u001b[49m\u001b[43m)\u001b[49m\u001b[43m,\u001b[49m\u001b[43m \u001b[49m\u001b[43mp\u001b[49m\u001b[43m,\u001b[49m\u001b[43m \u001b[49m\u001b[43mname\u001b[49m\u001b[38;5;241;43m=\u001b[39;49m\u001b[38;5;124;43m'\u001b[39;49m\u001b[38;5;124;43mgeod_\u001b[39;49m\u001b[38;5;132;43;01m{}\u001b[39;49;00m\u001b[38;5;124;43m'\u001b[39;49m\u001b[38;5;241;43m.\u001b[39;49m\u001b[43mformat\u001b[49m\u001b[43m(\u001b[49m\u001b[43mi\u001b[49m\u001b[43m)\u001b[49m\u001b[43m)\u001b[49m\n\u001b[1;32m      9\u001b[0m \u001b[38;5;66;03m# Plot the geodesic\u001b[39;00m\n\u001b[1;32m     10\u001b[0m plot \u001b[38;5;241m+\u001b[39m\u001b[38;5;241m=\u001b[39m geod\u001b[38;5;241m.\u001b[39mplot(chart\u001b[38;5;241m=\u001b[39mspher, color\u001b[38;5;241m=\u001b[39m\u001b[38;5;124m'\u001b[39m\u001b[38;5;124mgreen\u001b[39m\u001b[38;5;124m'\u001b[39m, thickness\u001b[38;5;241m=\u001b[39mInteger(\u001b[38;5;241m1\u001b[39m))\n",
      "File \u001b[0;32m~/micromamba/envs/math/lib/python3.10/site-packages/sage/manifolds/differentiable/manifold.py:3651\u001b[0m, in \u001b[0;36mDifferentiableManifold.integrated_curve\u001b[0;34m(self, equations_rhs, velocities, curve_param, initial_tangent_vector, chart, name, latex_name, verbose, across_charts)\u001b[0m\n\u001b[1;32m   3648\u001b[0m \u001b[38;5;28;01mfrom\u001b[39;00m \u001b[38;5;21;01msage\u001b[39;00m\u001b[38;5;21;01m.\u001b[39;00m\u001b[38;5;21;01mmanifolds\u001b[39;00m\u001b[38;5;21;01m.\u001b[39;00m\u001b[38;5;21;01mdifferentiable\u001b[39;00m\u001b[38;5;21;01m.\u001b[39;00m\u001b[38;5;21;01mmanifold_homset\u001b[39;00m \u001b[38;5;28;01mimport\u001b[39;00m IntegratedCurveSet\n\u001b[1;32m   3650\u001b[0m \u001b[38;5;28;01mif\u001b[39;00m \u001b[38;5;28mlen\u001b[39m(curve_param) \u001b[38;5;241m!=\u001b[39m \u001b[38;5;241m3\u001b[39m:\n\u001b[0;32m-> 3651\u001b[0m     \u001b[38;5;28;01mraise\u001b[39;00m \u001b[38;5;167;01mValueError\u001b[39;00m(\u001b[38;5;124m\"\u001b[39m\u001b[38;5;124mthe argument \u001b[39m\u001b[38;5;124m'\u001b[39m\u001b[38;5;124mcurve_param\u001b[39m\u001b[38;5;124m'\u001b[39m\u001b[38;5;124m must be of the form \u001b[39m\u001b[38;5;124m\"\u001b[39m \u001b[38;5;241m+\u001b[39m\n\u001b[1;32m   3652\u001b[0m                      \u001b[38;5;124m\"\u001b[39m\u001b[38;5;124m(t, t_min, t_max)\u001b[39m\u001b[38;5;124m\"\u001b[39m)\n\u001b[1;32m   3653\u001b[0m t \u001b[38;5;241m=\u001b[39m curve_param[\u001b[38;5;241m0\u001b[39m]\n\u001b[1;32m   3654\u001b[0m t_min \u001b[38;5;241m=\u001b[39m curve_param[\u001b[38;5;241m1\u001b[39m]\n",
      "\u001b[0;31mValueError\u001b[0m: the argument 'curve_param' must be of the form (t, t_min, t_max)"
     ]
    }
   ],
   "source": [
    "for i in range(num_geodesics):\n",
    "    # Initial tangent vector at p with varying direction\n",
    "    v = U.vector_field(name='v')\n",
    "    v[0], v[1] = cos(i * 2*pi/num_geodesics), sin(i * 2*pi/num_geodesics)\n",
    "    \n",
    "    # Generate the geodesic from p with initial vector v\n",
    "    geod = U.integral_curve(g, v, (0, pi), p, name='geod_{}'.format(i))\n",
    "    \n",
    "    # Plot the geodesic\n",
    "    plot += geod.plot(chart=spher, color='green', thickness=1)\n",
    "\n",
    "plot.show()"
   ]
  },
  {
   "cell_type": "code",
   "execution_count": null,
   "id": "dbed66bc-185b-49ba-92d9-0ced0979af1d",
   "metadata": {},
   "outputs": [],
   "source": []
  }
 ],
 "metadata": {
  "kernelspec": {
   "display_name": "SageMath 10.0",
   "language": "sage",
   "name": "sagemath"
  },
  "language_info": {
   "codemirror_mode": {
    "name": "ipython",
    "version": 3
   },
   "file_extension": ".py",
   "mimetype": "text/x-python",
   "name": "python",
   "nbconvert_exporter": "python",
   "pygments_lexer": "ipython3",
   "version": "3.10.12"
  }
 },
 "nbformat": 4,
 "nbformat_minor": 5
}
