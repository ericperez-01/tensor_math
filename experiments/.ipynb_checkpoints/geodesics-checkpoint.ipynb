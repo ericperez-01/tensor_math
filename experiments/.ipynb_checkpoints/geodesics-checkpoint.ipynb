{
 "cells": [
  {
   "cell_type": "code",
   "execution_count": 29,
   "id": "7d6bcd12-b7b2-4ffa-bcd4-36a59564e154",
   "metadata": {
    "execution": {
     "iopub.execute_input": "2023-11-12T19:14:19.206836Z",
     "iopub.status.busy": "2023-11-12T19:14:19.204431Z",
     "iopub.status.idle": "2023-11-12T19:14:19.229064Z",
     "shell.execute_reply": "2023-11-12T19:14:19.228384Z",
     "shell.execute_reply.started": "2023-11-12T19:14:19.206772Z"
    }
   },
   "outputs": [],
   "source": [
    "M = Manifold(2, 'M', structure='Riemannian')\n",
    "X.<x,y> = M.chart('x y:(0,+oo)')"
   ]
  },
  {
   "cell_type": "code",
   "execution_count": 30,
   "id": "c3f9e7bd-c1d3-4c22-9b2c-62b148147519",
   "metadata": {
    "execution": {
     "iopub.execute_input": "2023-11-12T19:14:21.860408Z",
     "iopub.status.busy": "2023-11-12T19:14:21.859609Z",
     "iopub.status.idle": "2023-11-12T19:14:21.899689Z",
     "shell.execute_reply": "2023-11-12T19:14:21.899283Z",
     "shell.execute_reply.started": "2023-11-12T19:14:21.860371Z"
    }
   },
   "outputs": [
    {
     "data": {
      "text/plain": [
       "g = y^(-2) dx⊗dx + y^(-2) dy⊗dy"
      ]
     },
     "execution_count": 30,
     "metadata": {},
     "output_type": "execute_result"
    }
   ],
   "source": [
    "g = M.metric()\n",
    "g[0,0], g[1,1] = 1/y^2, 1/y^2\n",
    "g.display()"
   ]
  },
  {
   "cell_type": "code",
   "execution_count": 31,
   "id": "e1ac4209-33bf-47cc-b919-f1f60841e0f4",
   "metadata": {
    "execution": {
     "iopub.execute_input": "2023-11-12T19:14:32.374685Z",
     "iopub.status.busy": "2023-11-12T19:14:32.373852Z",
     "iopub.status.idle": "2023-11-12T19:14:32.384014Z",
     "shell.execute_reply": "2023-11-12T19:14:32.383312Z",
     "shell.execute_reply.started": "2023-11-12T19:14:32.374651Z"
    }
   },
   "outputs": [
    {
     "data": {
      "text/plain": [
       "v = ∂/∂x + 3/2 ∂/∂y"
      ]
     },
     "execution_count": 31,
     "metadata": {},
     "output_type": "execute_result"
    }
   ],
   "source": [
    "p = M((0,1), name='p')\n",
    "v = M.tangent_space(p)((1,3/2), name='v')\n",
    "v.display()"
   ]
  },
  {
   "cell_type": "code",
   "execution_count": 32,
   "id": "20f9d0d3-f240-4d1b-8d93-760ab4ba3cbc",
   "metadata": {
    "execution": {
     "iopub.execute_input": "2023-11-12T19:14:33.971146Z",
     "iopub.status.busy": "2023-11-12T19:14:33.970085Z",
     "iopub.status.idle": "2023-11-12T19:14:34.110697Z",
     "shell.execute_reply": "2023-11-12T19:14:34.109900Z",
     "shell.execute_reply.started": "2023-11-12T19:14:33.971102Z"
    }
   },
   "outputs": [],
   "source": [
    "t = var('t')\n",
    "c = M.integrated_geodesic(g, (t, 0, 10), v, name='c')"
   ]
  },
  {
   "cell_type": "code",
   "execution_count": 33,
   "id": "a541a4c8-0880-4896-a5d9-287c31b49538",
   "metadata": {
    "execution": {
     "iopub.execute_input": "2023-11-12T19:14:34.637394Z",
     "iopub.status.busy": "2023-11-12T19:14:34.636238Z",
     "iopub.status.idle": "2023-11-12T19:14:34.652242Z",
     "shell.execute_reply": "2023-11-12T19:14:34.651516Z",
     "shell.execute_reply.started": "2023-11-12T19:14:34.637347Z"
    }
   },
   "outputs": [],
   "source": [
    "sol = c.solve()"
   ]
  },
  {
   "cell_type": "code",
   "execution_count": 34,
   "id": "fe6cb23f-a688-4eb3-b5f4-eb7d451dc9d5",
   "metadata": {
    "execution": {
     "iopub.execute_input": "2023-11-12T19:14:38.175648Z",
     "iopub.status.busy": "2023-11-12T19:14:38.174902Z",
     "iopub.status.idle": "2023-11-12T19:14:38.347985Z",
     "shell.execute_reply": "2023-11-12T19:14:38.347590Z",
     "shell.execute_reply.started": "2023-11-12T19:14:38.175615Z"
    }
   },
   "outputs": [
    {
     "data": {
      "image/png": "[encoded data removed]",
      "text/plain": [
       "Graphics object consisting of 5 graphics primitives"
      ]
     },
     "execution_count": 34,
     "metadata": {},
     "output_type": "execute_result"
    }
   ],
   "source": [
    "interp = c.interpolate()\n",
    "graph = c.plot_integrated()\n",
    "p_plot = p.plot(size=30, label_offset=-0.07, fontsize=20)\n",
    "v_plot = v.plot(label_offset=0.05, fontsize=20)\n",
    "graph + p_plot + v_plot"
   ]
  },
  {
   "cell_type": "code",
   "execution_count": 35,
   "id": "8e5f4f92-d03e-48b6-81dd-092c60b3e266",
   "metadata": {
    "execution": {
     "iopub.execute_input": "2023-11-12T19:14:47.621243Z",
     "iopub.status.busy": "2023-11-12T19:14:47.620513Z",
     "iopub.status.idle": "2023-11-12T19:14:47.626936Z",
     "shell.execute_reply": "2023-11-12T19:14:47.626243Z",
     "shell.execute_reply.started": "2023-11-12T19:14:47.621215Z"
    }
   },
   "outputs": [
    {
     "data": {
      "text/plain": [
       "Real interval (0, 10)"
      ]
     },
     "execution_count": 35,
     "metadata": {},
     "output_type": "execute_result"
    }
   ],
   "source": [
    "c.domain()"
   ]
  },
  {
   "cell_type": "code",
   "execution_count": 36,
   "id": "a4772cca-73b0-4ec2-887e-0fa8e16d17e2",
   "metadata": {
    "execution": {
     "iopub.execute_input": "2023-11-12T19:14:48.107583Z",
     "iopub.status.busy": "2023-11-12T19:14:48.105905Z",
     "iopub.status.idle": "2023-11-12T19:14:48.114231Z",
     "shell.execute_reply": "2023-11-12T19:14:48.113348Z",
     "shell.execute_reply.started": "2023-11-12T19:14:48.107526Z"
    }
   },
   "outputs": [
    {
     "data": {
      "text/plain": [
       "2-dimensional Riemannian manifold M"
      ]
     },
     "execution_count": 36,
     "metadata": {},
     "output_type": "execute_result"
    }
   ],
   "source": [
    "c.codomain()"
   ]
  },
  {
   "cell_type": "code",
   "execution_count": 37,
   "id": "95929f9e-8eb7-493c-ac98-4a900a435538",
   "metadata": {
    "execution": {
     "iopub.execute_input": "2023-11-12T19:14:57.149066Z",
     "iopub.status.busy": "2023-11-12T19:14:57.147856Z",
     "iopub.status.idle": "2023-11-12T19:14:57.155207Z",
     "shell.execute_reply": "2023-11-12T19:14:57.154093Z",
     "shell.execute_reply.started": "2023-11-12T19:14:57.149002Z"
    }
   },
   "outputs": [
    {
     "data": {
      "text/plain": [
       "c: (0, 10) → M"
      ]
     },
     "execution_count": 37,
     "metadata": {},
     "output_type": "execute_result"
    }
   ],
   "source": [
    "c.display()"
   ]
  },
  {
   "cell_type": "code",
   "execution_count": 38,
   "id": "112fabfb-65ca-4526-ab58-9d0d407cbd8a",
   "metadata": {
    "execution": {
     "iopub.execute_input": "2023-11-12T19:14:57.566024Z",
     "iopub.status.busy": "2023-11-12T19:14:57.565157Z",
     "iopub.status.idle": "2023-11-12T19:14:57.571928Z",
     "shell.execute_reply": "2023-11-12T19:14:57.571231Z",
     "shell.execute_reply.started": "2023-11-12T19:14:57.565975Z"
    }
   },
   "outputs": [
    {
     "data": {
      "text/plain": [
       "Point on the 2-dimensional Riemannian manifold M"
      ]
     },
     "execution_count": 38,
     "metadata": {},
     "output_type": "execute_result"
    }
   ],
   "source": [
    "c(1)"
   ]
  },
  {
   "cell_type": "code",
   "execution_count": 39,
   "id": "823f118b-033b-4cd4-a6b3-292dafedfd28",
   "metadata": {
    "execution": {
     "iopub.execute_input": "2023-11-12T19:14:57.994135Z",
     "iopub.status.busy": "2023-11-12T19:14:57.993717Z",
     "iopub.status.idle": "2023-11-12T19:14:57.997644Z",
     "shell.execute_reply": "2023-11-12T19:14:57.997303Z",
     "shell.execute_reply.started": "2023-11-12T19:14:57.994121Z"
    }
   },
   "outputs": [
    {
     "data": {
      "text/plain": [
       "(2.4784140715580123, 1.5141683866138929)"
      ]
     },
     "execution_count": 39,
     "metadata": {},
     "output_type": "execute_result"
    }
   ],
   "source": [
    "X(c(1))  "
   ]
  },
  {
   "cell_type": "code",
   "execution_count": null,
   "id": "dc11d8db-bc0d-4a1d-89fb-d3d0c0c97bbc",
   "metadata": {},
   "outputs": [],
   "source": []
  },
  {
   "cell_type": "code",
   "execution_count": null,
   "id": "1245f4fc-c18e-4f02-a259-59d8e707a347",
   "metadata": {},
   "outputs": [],
   "source": []
  },
  {
   "cell_type": "code",
   "execution_count": null,
   "id": "d2754508-bedf-456a-b0a5-bbde809fef9c",
   "metadata": {},
   "outputs": [],
   "source": []
  }
 ],
 "metadata": {
  "kernelspec": {
   "display_name": "SageMath 10.0",
   "language": "sage",
   "name": "sagemath"
  },
  "language_info": {
   "codemirror_mode": {
    "name": "ipython",
    "version": 3
   },
   "file_extension": ".py",
   "mimetype": "text/x-python",
   "name": "python",
   "nbconvert_exporter": "python",
   "pygments_lexer": "ipython3",
   "version": "3.10.12"
  }
 },
 "nbformat": 4,
 "nbformat_minor": 5
}
