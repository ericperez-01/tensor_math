{
 "cells": [
  {
   "cell_type": "code",
   "execution_count": 1,
   "id": "fa21e681-a5e0-4742-82a3-709203280693",
   "metadata": {
    "execution": {
     "iopub.execute_input": "2023-11-12T19:22:57.510049Z",
     "iopub.status.busy": "2023-11-12T19:22:57.508899Z",
     "iopub.status.idle": "2023-11-12T19:22:57.517067Z",
     "shell.execute_reply": "2023-11-12T19:22:57.515837Z",
     "shell.execute_reply.started": "2023-11-12T19:22:57.509992Z"
    }
   },
   "outputs": [],
   "source": [
    "sage: forget()"
   ]
  },
  {
   "cell_type": "code",
   "execution_count": 2,
   "id": "40e1ba8a-dbbb-4b2b-be56-20879279bda9",
   "metadata": {
    "execution": {
     "iopub.execute_input": "2023-11-12T19:22:58.600199Z",
     "iopub.status.busy": "2023-11-12T19:22:58.599448Z",
     "iopub.status.idle": "2023-11-12T19:22:58.622474Z",
     "shell.execute_reply": "2023-11-12T19:22:58.621937Z",
     "shell.execute_reply.started": "2023-11-12T19:22:58.600167Z"
    }
   },
   "outputs": [],
   "source": [
    "sage: M = Manifold(3, 'R^3', start_index=1)"
   ]
  },
  {
   "cell_type": "code",
   "execution_count": 3,
   "id": "198bfe57-0333-476e-b939-a6dcf5a18ea6",
   "metadata": {
    "execution": {
     "iopub.execute_input": "2023-11-12T19:22:58.623906Z",
     "iopub.status.busy": "2023-11-12T19:22:58.623249Z",
     "iopub.status.idle": "2023-11-12T19:23:00.770458Z",
     "shell.execute_reply": "2023-11-12T19:23:00.769714Z",
     "shell.execute_reply.started": "2023-11-12T19:22:58.623880Z"
    }
   },
   "outputs": [],
   "source": [
    "sage: c_spher.<r,th,ph> = M.chart(r'r:(0,+oo) th:(0,pi):\\theta ph:(0,2*pi):\\phi')"
   ]
  },
  {
   "cell_type": "code",
   "execution_count": 4,
   "id": "b431ef38-0393-48a0-b2ba-b8068236146d",
   "metadata": {
    "execution": {
     "iopub.execute_input": "2023-11-12T19:23:00.773679Z",
     "iopub.status.busy": "2023-11-12T19:23:00.772836Z",
     "iopub.status.idle": "2023-11-12T19:23:00.790970Z",
     "shell.execute_reply": "2023-11-12T19:23:00.790182Z",
     "shell.execute_reply.started": "2023-11-12T19:23:00.773638Z"
    }
   },
   "outputs": [],
   "source": [
    "sage: g = M.metric('g')"
   ]
  },
  {
   "cell_type": "code",
   "execution_count": 5,
   "id": "935bcd73-b616-490b-a7f2-4cd84cb8ba60",
   "metadata": {
    "execution": {
     "iopub.execute_input": "2023-11-12T19:23:00.794013Z",
     "iopub.status.busy": "2023-11-12T19:23:00.792480Z",
     "iopub.status.idle": "2023-11-12T19:23:00.876408Z",
     "shell.execute_reply": "2023-11-12T19:23:00.874389Z",
     "shell.execute_reply.started": "2023-11-12T19:23:00.793883Z"
    }
   },
   "outputs": [],
   "source": [
    "sage: g[1,1], g[2,2], g[3,3] = 1, r^2 , (r*sin(th))^2"
   ]
  },
  {
   "cell_type": "code",
   "execution_count": 6,
   "id": "59012ee3-031c-4929-accd-bcb6b6eef7a3",
   "metadata": {
    "execution": {
     "iopub.execute_input": "2023-11-12T19:23:01.384756Z",
     "iopub.status.busy": "2023-11-12T19:23:01.383932Z",
     "iopub.status.idle": "2023-11-12T19:23:01.395281Z",
     "shell.execute_reply": "2023-11-12T19:23:01.394564Z",
     "shell.execute_reply.started": "2023-11-12T19:23:01.384725Z"
    }
   },
   "outputs": [
    {
     "data": {
      "text/plain": [
       "g = dr⊗dr + r^2 dth⊗dth + r^2*sin(th)^2 dph⊗dph"
      ]
     },
     "execution_count": 6,
     "metadata": {},
     "output_type": "execute_result"
    }
   ],
   "source": [
    "sage: g.display()"
   ]
  },
  {
   "cell_type": "code",
   "execution_count": 7,
   "id": "b24e7f44-e49a-4d8f-9ba2-0db650d54222",
   "metadata": {
    "execution": {
     "iopub.execute_input": "2023-11-12T19:23:01.963236Z",
     "iopub.status.busy": "2023-11-12T19:23:01.962309Z",
     "iopub.status.idle": "2023-11-12T19:23:02.984229Z",
     "shell.execute_reply": "2023-11-12T19:23:02.981777Z",
     "shell.execute_reply.started": "2023-11-12T19:23:01.963196Z"
    }
   },
   "outputs": [],
   "source": [
    "sage: nab = g.connection()"
   ]
  },
  {
   "cell_type": "code",
   "execution_count": 8,
   "id": "3825fcf6-b4ca-4f4c-aab0-bd0fdfca2d12",
   "metadata": {
    "execution": {
     "iopub.execute_input": "2023-11-12T19:23:02.989401Z",
     "iopub.status.busy": "2023-11-12T19:23:02.987801Z",
     "iopub.status.idle": "2023-11-12T19:23:03.001156Z",
     "shell.execute_reply": "2023-11-12T19:23:02.999404Z",
     "shell.execute_reply.started": "2023-11-12T19:23:02.989332Z"
    }
   },
   "outputs": [
    {
     "data": {
      "text/plain": [
       "3-indices components w.r.t. Coordinate frame (R^3, (∂/∂r,∂/∂th,∂/∂ph)), with symmetry on the index positions (1, 2)"
      ]
     },
     "execution_count": 8,
     "metadata": {},
     "output_type": "execute_result"
    }
   ],
   "source": [
    "sage: gam = nab.coef() ; gam"
   ]
  },
  {
   "cell_type": "code",
   "execution_count": 9,
   "id": "004c6444-08fd-4fab-9efe-5a16e9a717e2",
   "metadata": {
    "execution": {
     "iopub.execute_input": "2023-11-12T19:23:03.005517Z",
     "iopub.status.busy": "2023-11-12T19:23:03.003124Z",
     "iopub.status.idle": "2023-11-12T19:23:03.021843Z",
     "shell.execute_reply": "2023-11-12T19:23:03.020668Z",
     "shell.execute_reply.started": "2023-11-12T19:23:03.005431Z"
    }
   },
   "outputs": [
    {
     "data": {
      "text/plain": [
       "[[[0, 0, 0], [0, -r, 0], [0, 0, -r*sin(th)^2]],\n",
       " [[0, 1/r, 0], [1/r, 0, 0], [0, 0, -cos(th)*sin(th)]],\n",
       " [[0, 0, 1/r], [0, 0, cos(th)/sin(th)], [1/r, cos(th)/sin(th), 0]]]"
      ]
     },
     "execution_count": 9,
     "metadata": {},
     "output_type": "execute_result"
    }
   ],
   "source": [
    "sage: gam[:]"
   ]
  },
  {
   "cell_type": "code",
   "execution_count": 10,
   "id": "322e1dae-4cbf-4a09-8610-c4cf227d7437",
   "metadata": {
    "execution": {
     "iopub.execute_input": "2023-11-12T19:23:03.633087Z",
     "iopub.status.busy": "2023-11-12T19:23:03.632239Z",
     "iopub.status.idle": "2023-11-12T19:23:03.639959Z",
     "shell.execute_reply": "2023-11-12T19:23:03.639197Z",
     "shell.execute_reply.started": "2023-11-12T19:23:03.633055Z"
    }
   },
   "outputs": [
    {
     "data": {
      "text/plain": [
       "(-r, -r*sin(th)^2)"
      ]
     },
     "execution_count": 10,
     "metadata": {},
     "output_type": "execute_result"
    }
   ],
   "source": [
    "sage: gam[1,2,2], gam[1,3,3]"
   ]
  },
  {
   "cell_type": "code",
   "execution_count": 11,
   "id": "4ee20c14-dcb1-402a-aca8-28401ffca3eb",
   "metadata": {
    "execution": {
     "iopub.execute_input": "2023-11-12T19:23:04.158007Z",
     "iopub.status.busy": "2023-11-12T19:23:04.157000Z",
     "iopub.status.idle": "2023-11-12T19:23:04.164780Z",
     "shell.execute_reply": "2023-11-12T19:23:04.163999Z",
     "shell.execute_reply.started": "2023-11-12T19:23:04.157962Z"
    }
   },
   "outputs": [
    {
     "data": {
      "text/plain": [
       "(1/r, -cos(th)*sin(th))"
      ]
     },
     "execution_count": 11,
     "metadata": {},
     "output_type": "execute_result"
    }
   ],
   "source": [
    "sage: gam[2,1,2], gam[2,3,3]"
   ]
  },
  {
   "cell_type": "code",
   "execution_count": 12,
   "id": "497fcf06-a422-4ced-bce4-8215f0cbf9a5",
   "metadata": {
    "execution": {
     "iopub.execute_input": "2023-11-12T19:23:04.534169Z",
     "iopub.status.busy": "2023-11-12T19:23:04.533316Z",
     "iopub.status.idle": "2023-11-12T19:23:04.541775Z",
     "shell.execute_reply": "2023-11-12T19:23:04.540622Z",
     "shell.execute_reply.started": "2023-11-12T19:23:04.534134Z"
    }
   },
   "outputs": [
    {
     "data": {
      "text/plain": [
       "(1/r, cos(th)/sin(th))"
      ]
     },
     "execution_count": 12,
     "metadata": {},
     "output_type": "execute_result"
    }
   ],
   "source": [
    "sage: gam[3,1,3], gam[3,2,3]"
   ]
  },
  {
   "cell_type": "code",
   "execution_count": 13,
   "id": "e3826070-381a-4f47-8762-7bb9dc415631",
   "metadata": {
    "execution": {
     "iopub.execute_input": "2023-11-12T19:23:04.938641Z",
     "iopub.status.busy": "2023-11-12T19:23:04.937711Z",
     "iopub.status.idle": "2023-11-12T19:23:04.946832Z",
     "shell.execute_reply": "2023-11-12T19:23:04.946051Z",
     "shell.execute_reply.started": "2023-11-12T19:23:04.938607Z"
    }
   },
   "outputs": [],
   "source": [
    "sage: ch_basis = M.automorphism_field()"
   ]
  },
  {
   "cell_type": "code",
   "execution_count": 14,
   "id": "5fb0620d-05e4-4e18-a196-980b4bd1319c",
   "metadata": {
    "execution": {
     "iopub.execute_input": "2023-11-12T19:23:07.783522Z",
     "iopub.status.busy": "2023-11-12T19:23:07.782360Z",
     "iopub.status.idle": "2023-11-12T19:23:07.804196Z",
     "shell.execute_reply": "2023-11-12T19:23:07.802398Z",
     "shell.execute_reply.started": "2023-11-12T19:23:07.783472Z"
    }
   },
   "outputs": [],
   "source": [
    "sage: ch_basis[1,1], ch_basis[2,2], ch_basis[3,3] = 1, 1/r, 1/(r*sin(th))"
   ]
  },
  {
   "cell_type": "code",
   "execution_count": 15,
   "id": "9598497e-a866-49df-a3f7-5beccb9b45dd",
   "metadata": {
    "execution": {
     "iopub.execute_input": "2023-11-12T19:12:28.130280Z",
     "iopub.status.busy": "2023-11-12T19:12:28.129475Z",
     "iopub.status.idle": "2023-11-12T19:12:28.158771Z",
     "shell.execute_reply": "2023-11-12T19:12:28.158378Z",
     "shell.execute_reply.started": "2023-11-12T19:12:28.130249Z"
    }
   },
   "outputs": [],
   "source": [
    "sage: e = c_spher.frame().new_frame(ch_basis, 'e')"
   ]
  },
  {
   "cell_type": "code",
   "execution_count": 16,
   "id": "50e6f115-2b39-4104-bbda-de7baae83b9e",
   "metadata": {
    "execution": {
     "iopub.execute_input": "2023-11-12T19:12:28.615988Z",
     "iopub.status.busy": "2023-11-12T19:12:28.615001Z",
     "iopub.status.idle": "2023-11-12T19:12:28.837382Z",
     "shell.execute_reply": "2023-11-12T19:12:28.837079Z",
     "shell.execute_reply.started": "2023-11-12T19:12:28.615934Z"
    }
   },
   "outputs": [
    {
     "data": {
      "text/plain": [
       "3-indices components w.r.t. Vector frame (R^3, (e_1,e_2,e_3))"
      ]
     },
     "execution_count": 16,
     "metadata": {},
     "output_type": "execute_result"
    }
   ],
   "source": [
    "sage: gam_e = nab.coef(e) ; gam_e"
   ]
  },
  {
   "cell_type": "code",
   "execution_count": 17,
   "id": "60da736f-3ced-4616-905f-5de73609b2dd",
   "metadata": {
    "execution": {
     "iopub.execute_input": "2023-11-12T19:12:29.630894Z",
     "iopub.status.busy": "2023-11-12T19:12:29.629996Z",
     "iopub.status.idle": "2023-11-12T19:12:29.638553Z",
     "shell.execute_reply": "2023-11-12T19:12:29.637628Z",
     "shell.execute_reply.started": "2023-11-12T19:12:29.630856Z"
    }
   },
   "outputs": [
    {
     "data": {
      "text/plain": [
       "[[[0, 0, 0], [0, -1/r, 0], [0, 0, -1/r]],\n",
       " [[0, 1/r, 0], [0, 0, 0], [0, 0, -cos(th)/(r*sin(th))]],\n",
       " [[0, 0, 1/r], [0, 0, cos(th)/(r*sin(th))], [0, 0, 0]]]"
      ]
     },
     "execution_count": 17,
     "metadata": {},
     "output_type": "execute_result"
    }
   ],
   "source": [
    "sage: gam_e[:]"
   ]
  },
  {
   "cell_type": "code",
   "execution_count": 18,
   "id": "e25afe32-d565-4fd9-8e88-297390a7158b",
   "metadata": {
    "execution": {
     "iopub.execute_input": "2023-11-12T19:12:30.228944Z",
     "iopub.status.busy": "2023-11-12T19:12:30.228166Z",
     "iopub.status.idle": "2023-11-12T19:12:30.237045Z",
     "shell.execute_reply": "2023-11-12T19:12:30.235855Z",
     "shell.execute_reply.started": "2023-11-12T19:12:30.228913Z"
    }
   },
   "outputs": [
    {
     "data": {
      "text/plain": [
       "(-1/r, 1/r)"
      ]
     },
     "execution_count": 18,
     "metadata": {},
     "output_type": "execute_result"
    }
   ],
   "source": [
    "sage: gam_e[1,2,2], gam_e[2,1,2]"
   ]
  },
  {
   "cell_type": "code",
   "execution_count": 19,
   "id": "d76f231a-1936-41af-b440-24d72270b6e9",
   "metadata": {
    "execution": {
     "iopub.execute_input": "2023-11-12T19:12:30.484597Z",
     "iopub.status.busy": "2023-11-12T19:12:30.483732Z",
     "iopub.status.idle": "2023-11-12T19:12:30.493755Z",
     "shell.execute_reply": "2023-11-12T19:12:30.492991Z",
     "shell.execute_reply.started": "2023-11-12T19:12:30.484559Z"
    }
   },
   "outputs": [
    {
     "data": {
      "text/plain": [
       "(-1/r, 1/r)"
      ]
     },
     "execution_count": 19,
     "metadata": {},
     "output_type": "execute_result"
    }
   ],
   "source": [
    "sage: gam_e[1,3,3], gam_e[3,1,3]"
   ]
  },
  {
   "cell_type": "code",
   "execution_count": 20,
   "id": "3bab31eb-963a-406d-ae85-7fe58ab32bf2",
   "metadata": {
    "execution": {
     "iopub.execute_input": "2023-11-12T19:12:30.764583Z",
     "iopub.status.busy": "2023-11-12T19:12:30.763728Z",
     "iopub.status.idle": "2023-11-12T19:12:30.771313Z",
     "shell.execute_reply": "2023-11-12T19:12:30.770469Z",
     "shell.execute_reply.started": "2023-11-12T19:12:30.764547Z"
    }
   },
   "outputs": [
    {
     "data": {
      "text/plain": [
       "(-cos(th)/(r*sin(th)), cos(th)/(r*sin(th)))"
      ]
     },
     "execution_count": 20,
     "metadata": {},
     "output_type": "execute_result"
    }
   ],
   "source": [
    "sage: gam_e[2,3,3], gam_e[3,2,3]"
   ]
  },
  {
   "cell_type": "code",
   "execution_count": null,
   "id": "da70b6fb-5868-4e26-9ce7-f6d4111f3a3e",
   "metadata": {},
   "outputs": [],
   "source": []
  }
 ],
 "metadata": {
  "kernelspec": {
   "display_name": "SageMath 10.0",
   "language": "sage",
   "name": "sagemath"
  },
  "language_info": {
   "codemirror_mode": {
    "name": "ipython",
    "version": 3
   },
   "file_extension": ".py",
   "mimetype": "text/x-python",
   "name": "python",
   "nbconvert_exporter": "python",
   "pygments_lexer": "ipython3",
   "version": "3.10.12"
  }
 },
 "nbformat": 4,
 "nbformat_minor": 5
}
