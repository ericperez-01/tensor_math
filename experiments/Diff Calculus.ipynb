{
 "cells": [
  {
   "cell_type": "code",
   "execution_count": 1,
   "id": "268d423c-3606-4690-b7ee-65070defe051",
   "metadata": {
    "execution": {
     "iopub.execute_input": "2023-11-12T19:12:54.887155Z",
     "iopub.status.busy": "2023-11-12T19:12:54.886312Z",
     "iopub.status.idle": "2023-11-12T19:12:54.896011Z",
     "shell.execute_reply": "2023-11-12T19:12:54.894917Z",
     "shell.execute_reply.started": "2023-11-12T19:12:54.887118Z"
    }
   },
   "outputs": [],
   "source": [
    "from IPython.display import display, Math, Latex"
   ]
  },
  {
   "cell_type": "code",
   "execution_count": 2,
   "id": "f451ff39-c25d-4e58-9f7a-86c54df5bec3",
   "metadata": {
    "execution": {
     "iopub.execute_input": "2023-11-12T19:12:55.327878Z",
     "iopub.status.busy": "2023-11-12T19:12:55.326946Z",
     "iopub.status.idle": "2023-11-12T19:12:55.335001Z",
     "shell.execute_reply": "2023-11-12T19:12:55.334115Z",
     "shell.execute_reply.started": "2023-11-12T19:12:55.327828Z"
    }
   },
   "outputs": [
    {
     "data": {
      "text/plain": [
       "(x, y, z)"
      ]
     },
     "execution_count": 2,
     "metadata": {},
     "output_type": "execute_result"
    }
   ],
   "source": [
    "sage: var('x y z')"
   ]
  },
  {
   "cell_type": "code",
   "execution_count": 3,
   "id": "8d019f00-9911-4513-a8ce-dfa6ab9d6669",
   "metadata": {
    "execution": {
     "iopub.execute_input": "2023-11-12T19:12:55.879558Z",
     "iopub.status.busy": "2023-11-12T19:12:55.878732Z",
     "iopub.status.idle": "2023-11-12T19:12:55.888160Z",
     "shell.execute_reply": "2023-11-12T19:12:55.886980Z",
     "shell.execute_reply.started": "2023-11-12T19:12:55.879525Z"
    }
   },
   "outputs": [],
   "source": [
    "sage: f = function('f')(x, y)\n",
    "sage: g = f.diff(y).diff(x)\n",
    "sage: h = function('h')(y, z)\n",
    "sage: k = h.diff(z)\n",
    "sage: fun = x*g + y*(k-z)^2"
   ]
  },
  {
   "cell_type": "code",
   "execution_count": 4,
   "id": "23028787-aeb5-4013-9c9e-58af84a5bcf7",
   "metadata": {
    "execution": {
     "iopub.execute_input": "2023-11-12T19:12:56.359488Z",
     "iopub.status.busy": "2023-11-12T19:12:56.358531Z",
     "iopub.status.idle": "2023-11-12T19:12:56.365392Z",
     "shell.execute_reply": "2023-11-12T19:12:56.364593Z",
     "shell.execute_reply.started": "2023-11-12T19:12:56.359439Z"
    }
   },
   "outputs": [
    {
     "data": {
      "text/plain": [
       "y*(z - diff(h(y, z), z))^2 + x*diff(f(x, y), x, y)"
      ]
     },
     "execution_count": 4,
     "metadata": {},
     "output_type": "execute_result"
    }
   ],
   "source": [
    "sage: fun"
   ]
  },
  {
   "cell_type": "code",
   "execution_count": 5,
   "id": "97417914-a64a-423c-ba2f-aec8c9072bed",
   "metadata": {
    "execution": {
     "iopub.execute_input": "2023-11-12T19:12:57.378876Z",
     "iopub.status.busy": "2023-11-12T19:12:57.377770Z",
     "iopub.status.idle": "2023-11-12T19:12:57.383547Z",
     "shell.execute_reply": "2023-11-12T19:12:57.382234Z",
     "shell.execute_reply.started": "2023-11-12T19:12:57.378836Z"
    }
   },
   "outputs": [],
   "source": [
    "sage: txt =  latex(fun)"
   ]
  },
  {
   "cell_type": "code",
   "execution_count": 6,
   "id": "e9b134a0-9b01-433a-bdcf-baaf05504007",
   "metadata": {
    "execution": {
     "iopub.execute_input": "2023-11-12T19:12:58.658319Z",
     "iopub.status.busy": "2023-11-12T19:12:58.657481Z",
     "iopub.status.idle": "2023-11-12T19:12:58.663759Z",
     "shell.execute_reply": "2023-11-12T19:12:58.663058Z",
     "shell.execute_reply.started": "2023-11-12T19:12:58.658289Z"
    }
   },
   "outputs": [
    {
     "data": {
      "text/latex": [
       "$\\displaystyle y {\\left(z - \\frac{\\partial}{\\partial z}h\\left(y, z\\right)\\right)}^{2} + x \\frac{\\partial^{2}}{\\partial x\\partial y}f\\left(x, y\\right)$"
      ],
      "text/plain": [
       "<IPython.core.display.Math object>"
      ]
     },
     "metadata": {},
     "output_type": "display_data"
    }
   ],
   "source": [
    "display(Math(txt))"
   ]
  },
  {
   "cell_type": "code",
   "execution_count": 7,
   "id": "732db0b1-a1ea-41ba-9a8a-6869c8f9037e",
   "metadata": {
    "execution": {
     "iopub.execute_input": "2023-11-12T19:13:01.908096Z",
     "iopub.status.busy": "2023-11-12T19:13:01.907236Z",
     "iopub.status.idle": "2023-11-12T19:13:02.161366Z",
     "shell.execute_reply": "2023-11-12T19:13:02.161070Z",
     "shell.execute_reply.started": "2023-11-12T19:13:01.908059Z"
    }
   },
   "outputs": [],
   "source": [
    "from sage.manifolds.utilities import ExpressionNice"
   ]
  },
  {
   "cell_type": "code",
   "execution_count": 8,
   "id": "c9429650-d01b-40d2-8f2f-283a04af84bc",
   "metadata": {
    "execution": {
     "iopub.execute_input": "2023-11-12T19:13:02.484260Z",
     "iopub.status.busy": "2023-11-12T19:13:02.483320Z",
     "iopub.status.idle": "2023-11-12T19:13:02.863647Z",
     "shell.execute_reply": "2023-11-12T19:13:02.863313Z",
     "shell.execute_reply.started": "2023-11-12T19:13:02.484222Z"
    }
   },
   "outputs": [
    {
     "data": {
      "text/latex": [
       "$\\displaystyle y {\\left(z - \\frac{\\partial\\,h}{\\partial z}\\right)}^{2} + x \\frac{\\partial^2\\,f}{\\partial x\\partial y}$"
      ],
      "text/plain": [
       "<IPython.core.display.Math object>"
      ]
     },
     "metadata": {},
     "output_type": "display_data"
    }
   ],
   "source": [
    "display(Math(latex(ExpressionNice(fun))))"
   ]
  },
  {
   "cell_type": "code",
   "execution_count": 9,
   "id": "92f7ee93-16d3-45b8-b803-37e8e1943b99",
   "metadata": {
    "execution": {
     "iopub.execute_input": "2023-11-12T19:13:07.012724Z",
     "iopub.status.busy": "2023-11-12T19:13:07.011547Z",
     "iopub.status.idle": "2023-11-12T19:13:07.020870Z",
     "shell.execute_reply": "2023-11-12T19:13:07.019993Z",
     "shell.execute_reply.started": "2023-11-12T19:13:07.012683Z"
    }
   },
   "outputs": [
    {
     "data": {
      "text/latex": [
       "$\\displaystyle x \\frac{\\partial^{5}}{(\\partial x)^{3}(\\partial y)^{2}}f\\left(x, y\\right)$"
      ],
      "text/plain": [
       "<IPython.core.display.Math object>"
      ]
     },
     "metadata": {},
     "output_type": "display_data"
    }
   ],
   "source": [
    "display(Math(latex(f.diff(x,x,y,y,x)*x)))"
   ]
  },
  {
   "cell_type": "code",
   "execution_count": null,
   "id": "c9c4d17d-4a3a-41e5-b390-b017260cc61e",
   "metadata": {},
   "outputs": [],
   "source": []
  },
  {
   "cell_type": "code",
   "execution_count": null,
   "id": "aacf2ea4-b2b2-478e-88b7-0fc5b2079dbf",
   "metadata": {},
   "outputs": [],
   "source": []
  },
  {
   "cell_type": "code",
   "execution_count": null,
   "id": "c02c92a8-4929-452d-8ff3-78f7fbc79421",
   "metadata": {},
   "outputs": [],
   "source": []
  }
 ],
 "metadata": {
  "kernelspec": {
   "display_name": "SageMath 10.0",
   "language": "sage",
   "name": "sagemath"
  },
  "language_info": {
   "codemirror_mode": {
    "name": "ipython",
    "version": 3
   },
   "file_extension": ".py",
   "mimetype": "text/x-python",
   "name": "python",
   "nbconvert_exporter": "python",
   "pygments_lexer": "ipython3",
   "version": "3.10.12"
  }
 },
 "nbformat": 4,
 "nbformat_minor": 5
}
