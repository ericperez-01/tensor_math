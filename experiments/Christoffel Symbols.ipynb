{
 "cells": [
  {
   "cell_type": "code",
   "execution_count": 1,
   "id": "fa21e681-a5e0-4742-82a3-709203280693",
   "metadata": {
    "execution": {
     "iopub.execute_input": "2023-12-03T18:26:40.345649Z",
     "iopub.status.busy": "2023-12-03T18:26:40.343442Z",
     "iopub.status.idle": "2023-12-03T18:26:40.356549Z",
     "shell.execute_reply": "2023-12-03T18:26:40.355493Z",
     "shell.execute_reply.started": "2023-12-03T18:26:40.345571Z"
    }
   },
   "outputs": [],
   "source": [
    "sage: forget()"
   ]
  },
  {
   "cell_type": "code",
   "execution_count": 2,
   "id": "40e1ba8a-dbbb-4b2b-be56-20879279bda9",
   "metadata": {
    "execution": {
     "iopub.execute_input": "2023-12-03T18:26:41.175803Z",
     "iopub.status.busy": "2023-12-03T18:26:41.175326Z",
     "iopub.status.idle": "2023-12-03T18:26:41.196045Z",
     "shell.execute_reply": "2023-12-03T18:26:41.195217Z",
     "shell.execute_reply.started": "2023-12-03T18:26:41.175783Z"
    }
   },
   "outputs": [],
   "source": [
    "sage: M = Manifold(3, 'R^3', start_index=1)"
   ]
  },
  {
   "cell_type": "code",
   "execution_count": 3,
   "id": "198bfe57-0333-476e-b939-a6dcf5a18ea6",
   "metadata": {
    "execution": {
     "iopub.execute_input": "2023-12-03T18:26:41.196940Z",
     "iopub.status.busy": "2023-12-03T18:26:41.196656Z",
     "iopub.status.idle": "2023-12-03T18:26:42.257402Z",
     "shell.execute_reply": "2023-12-03T18:26:42.257072Z",
     "shell.execute_reply.started": "2023-12-03T18:26:41.196928Z"
    }
   },
   "outputs": [],
   "source": [
    "sage: c_spher.<r,th,ph> = M.chart(r'r:(0,+oo) th:(0,pi):\\theta ph:(0,2*pi):\\phi')"
   ]
  },
  {
   "cell_type": "code",
   "execution_count": 4,
   "id": "b431ef38-0393-48a0-b2ba-b8068236146d",
   "metadata": {
    "execution": {
     "iopub.execute_input": "2023-12-03T18:26:42.259150Z",
     "iopub.status.busy": "2023-12-03T18:26:42.258758Z",
     "iopub.status.idle": "2023-12-03T18:26:42.266390Z",
     "shell.execute_reply": "2023-12-03T18:26:42.265892Z",
     "shell.execute_reply.started": "2023-12-03T18:26:42.259135Z"
    }
   },
   "outputs": [],
   "source": [
    "sage: g = M.metric('g')"
   ]
  },
  {
   "cell_type": "code",
   "execution_count": 5,
   "id": "935bcd73-b616-490b-a7f2-4cd84cb8ba60",
   "metadata": {
    "execution": {
     "iopub.execute_input": "2023-12-03T18:26:42.267638Z",
     "iopub.status.busy": "2023-12-03T18:26:42.267107Z",
     "iopub.status.idle": "2023-12-03T18:26:42.297904Z",
     "shell.execute_reply": "2023-12-03T18:26:42.297521Z",
     "shell.execute_reply.started": "2023-12-03T18:26:42.267621Z"
    }
   },
   "outputs": [],
   "source": [
    "sage: g[1,1], g[2,2], g[3,3] = 1, r^2 , (r*sin(th))^2"
   ]
  },
  {
   "cell_type": "code",
   "execution_count": 6,
   "id": "59012ee3-031c-4929-accd-bcb6b6eef7a3",
   "metadata": {
    "execution": {
     "iopub.execute_input": "2023-12-03T18:26:42.298860Z",
     "iopub.status.busy": "2023-12-03T18:26:42.298468Z",
     "iopub.status.idle": "2023-12-03T18:26:42.303098Z",
     "shell.execute_reply": "2023-12-03T18:26:42.302768Z",
     "shell.execute_reply.started": "2023-12-03T18:26:42.298846Z"
    }
   },
   "outputs": [
    {
     "data": {
      "text/plain": [
       "g = dr⊗dr + r^2 dth⊗dth + r^2*sin(th)^2 dph⊗dph"
      ]
     },
     "execution_count": 6,
     "metadata": {},
     "output_type": "execute_result"
    }
   ],
   "source": [
    "sage: g.display()"
   ]
  },
  {
   "cell_type": "code",
   "execution_count": 7,
   "id": "b24e7f44-e49a-4d8f-9ba2-0db650d54222",
   "metadata": {
    "execution": {
     "iopub.execute_input": "2023-12-03T18:26:42.786097Z",
     "iopub.status.busy": "2023-12-03T18:26:42.785801Z",
     "iopub.status.idle": "2023-12-03T18:26:43.235290Z",
     "shell.execute_reply": "2023-12-03T18:26:43.234961Z",
     "shell.execute_reply.started": "2023-12-03T18:26:42.786079Z"
    }
   },
   "outputs": [],
   "source": [
    "sage: nab = g.connection()"
   ]
  },
  {
   "cell_type": "code",
   "execution_count": 8,
   "id": "3825fcf6-b4ca-4f4c-aab0-bd0fdfca2d12",
   "metadata": {
    "execution": {
     "iopub.execute_input": "2023-12-03T18:26:43.236255Z",
     "iopub.status.busy": "2023-12-03T18:26:43.235811Z",
     "iopub.status.idle": "2023-12-03T18:26:43.239053Z",
     "shell.execute_reply": "2023-12-03T18:26:43.238715Z",
     "shell.execute_reply.started": "2023-12-03T18:26:43.236239Z"
    }
   },
   "outputs": [
    {
     "data": {
      "text/plain": [
       "3-indices components w.r.t. Coordinate frame (R^3, (∂/∂r,∂/∂th,∂/∂ph)), with symmetry on the index positions (1, 2)"
      ]
     },
     "execution_count": 8,
     "metadata": {},
     "output_type": "execute_result"
    }
   ],
   "source": [
    "sage: gam = nab.coef() ; gam"
   ]
  },
  {
   "cell_type": "code",
   "execution_count": 9,
   "id": "004c6444-08fd-4fab-9efe-5a16e9a717e2",
   "metadata": {
    "execution": {
     "iopub.execute_input": "2023-12-03T18:26:43.242249Z",
     "iopub.status.busy": "2023-12-03T18:26:43.241835Z",
     "iopub.status.idle": "2023-12-03T18:26:43.246368Z",
     "shell.execute_reply": "2023-12-03T18:26:43.245925Z",
     "shell.execute_reply.started": "2023-12-03T18:26:43.242236Z"
    }
   },
   "outputs": [
    {
     "data": {
      "text/plain": [
       "[[[0, 0, 0], [0, -r, 0], [0, 0, -r*sin(th)^2]],\n",
       " [[0, 1/r, 0], [1/r, 0, 0], [0, 0, -cos(th)*sin(th)]],\n",
       " [[0, 0, 1/r], [0, 0, cos(th)/sin(th)], [1/r, cos(th)/sin(th), 0]]]"
      ]
     },
     "execution_count": 9,
     "metadata": {},
     "output_type": "execute_result"
    }
   ],
   "source": [
    "sage: gam[:]"
   ]
  },
  {
   "cell_type": "code",
   "execution_count": 10,
   "id": "322e1dae-4cbf-4a09-8610-c4cf227d7437",
   "metadata": {
    "execution": {
     "iopub.execute_input": "2023-12-03T18:26:43.247826Z",
     "iopub.status.busy": "2023-12-03T18:26:43.247292Z",
     "iopub.status.idle": "2023-12-03T18:26:43.251786Z",
     "shell.execute_reply": "2023-12-03T18:26:43.251380Z",
     "shell.execute_reply.started": "2023-12-03T18:26:43.247809Z"
    }
   },
   "outputs": [
    {
     "data": {
      "text/plain": [
       "(-r, -r*sin(th)^2)"
      ]
     },
     "execution_count": 10,
     "metadata": {},
     "output_type": "execute_result"
    }
   ],
   "source": [
    "sage: gam[1,2,2], gam[1,3,3]"
   ]
  },
  {
   "cell_type": "code",
   "execution_count": 11,
   "id": "4ee20c14-dcb1-402a-aca8-28401ffca3eb",
   "metadata": {
    "execution": {
     "iopub.execute_input": "2023-12-03T18:26:43.253438Z",
     "iopub.status.busy": "2023-12-03T18:26:43.252474Z",
     "iopub.status.idle": "2023-12-03T18:26:43.257546Z",
     "shell.execute_reply": "2023-12-03T18:26:43.257068Z",
     "shell.execute_reply.started": "2023-12-03T18:26:43.253421Z"
    }
   },
   "outputs": [
    {
     "data": {
      "text/plain": [
       "(1/r, -cos(th)*sin(th))"
      ]
     },
     "execution_count": 11,
     "metadata": {},
     "output_type": "execute_result"
    }
   ],
   "source": [
    "sage: gam[2,1,2], gam[2,3,3]"
   ]
  },
  {
   "cell_type": "code",
   "execution_count": 12,
   "id": "497fcf06-a422-4ced-bce4-8215f0cbf9a5",
   "metadata": {
    "execution": {
     "iopub.execute_input": "2023-12-03T18:26:43.258932Z",
     "iopub.status.busy": "2023-12-03T18:26:43.258335Z",
     "iopub.status.idle": "2023-12-03T18:26:43.263575Z",
     "shell.execute_reply": "2023-12-03T18:26:43.263152Z",
     "shell.execute_reply.started": "2023-12-03T18:26:43.258900Z"
    }
   },
   "outputs": [
    {
     "data": {
      "text/plain": [
       "(1/r, cos(th)/sin(th))"
      ]
     },
     "execution_count": 12,
     "metadata": {},
     "output_type": "execute_result"
    }
   ],
   "source": [
    "sage: gam[3,1,3], gam[3,2,3]"
   ]
  },
  {
   "cell_type": "code",
   "execution_count": 13,
   "id": "e3826070-381a-4f47-8762-7bb9dc415631",
   "metadata": {
    "execution": {
     "iopub.execute_input": "2023-12-03T18:26:43.265096Z",
     "iopub.status.busy": "2023-12-03T18:26:43.264498Z",
     "iopub.status.idle": "2023-12-03T18:26:43.270343Z",
     "shell.execute_reply": "2023-12-03T18:26:43.270019Z",
     "shell.execute_reply.started": "2023-12-03T18:26:43.265078Z"
    }
   },
   "outputs": [],
   "source": [
    "sage: ch_basis = M.automorphism_field()"
   ]
  },
  {
   "cell_type": "code",
   "execution_count": 14,
   "id": "5fb0620d-05e4-4e18-a196-980b4bd1319c",
   "metadata": {
    "execution": {
     "iopub.execute_input": "2023-12-03T18:26:43.271183Z",
     "iopub.status.busy": "2023-12-03T18:26:43.270826Z",
     "iopub.status.idle": "2023-12-03T18:26:43.279267Z",
     "shell.execute_reply": "2023-12-03T18:26:43.278836Z",
     "shell.execute_reply.started": "2023-12-03T18:26:43.271161Z"
    }
   },
   "outputs": [],
   "source": [
    "sage: ch_basis[1,1], ch_basis[2,2], ch_basis[3,3] = 1, 1/r, 1/(r*sin(th))"
   ]
  },
  {
   "cell_type": "code",
   "execution_count": 15,
   "id": "9598497e-a866-49df-a3f7-5beccb9b45dd",
   "metadata": {
    "execution": {
     "iopub.execute_input": "2023-12-03T18:26:43.280336Z",
     "iopub.status.busy": "2023-12-03T18:26:43.279766Z",
     "iopub.status.idle": "2023-12-03T18:26:43.296407Z",
     "shell.execute_reply": "2023-12-03T18:26:43.295941Z",
     "shell.execute_reply.started": "2023-12-03T18:26:43.280321Z"
    }
   },
   "outputs": [],
   "source": [
    "sage: e = c_spher.frame().new_frame(ch_basis, 'e')"
   ]
  },
  {
   "cell_type": "code",
   "execution_count": 16,
   "id": "50e6f115-2b39-4104-bbda-de7baae83b9e",
   "metadata": {
    "execution": {
     "iopub.execute_input": "2023-12-03T18:26:43.297811Z",
     "iopub.status.busy": "2023-12-03T18:26:43.296987Z",
     "iopub.status.idle": "2023-12-03T18:26:43.505201Z",
     "shell.execute_reply": "2023-12-03T18:26:43.504892Z",
     "shell.execute_reply.started": "2023-12-03T18:26:43.297791Z"
    }
   },
   "outputs": [
    {
     "data": {
      "text/plain": [
       "3-indices components w.r.t. Vector frame (R^3, (e_1,e_2,e_3))"
      ]
     },
     "execution_count": 16,
     "metadata": {},
     "output_type": "execute_result"
    }
   ],
   "source": [
    "sage: gam_e = nab.coef(e) ; gam_e"
   ]
  },
  {
   "cell_type": "code",
   "execution_count": 17,
   "id": "60da736f-3ced-4616-905f-5de73609b2dd",
   "metadata": {
    "execution": {
     "iopub.execute_input": "2023-12-03T18:26:43.506166Z",
     "iopub.status.busy": "2023-12-03T18:26:43.505771Z",
     "iopub.status.idle": "2023-12-03T18:26:43.509429Z",
     "shell.execute_reply": "2023-12-03T18:26:43.509093Z",
     "shell.execute_reply.started": "2023-12-03T18:26:43.506152Z"
    }
   },
   "outputs": [
    {
     "data": {
      "text/plain": [
       "[[[0, 0, 0], [0, -1/r, 0], [0, 0, -1/r]],\n",
       " [[0, 1/r, 0], [0, 0, 0], [0, 0, -cos(th)/(r*sin(th))]],\n",
       " [[0, 0, 1/r], [0, 0, cos(th)/(r*sin(th))], [0, 0, 0]]]"
      ]
     },
     "execution_count": 17,
     "metadata": {},
     "output_type": "execute_result"
    }
   ],
   "source": [
    "sage: gam_e[:]"
   ]
  },
  {
   "cell_type": "code",
   "execution_count": 18,
   "id": "e25afe32-d565-4fd9-8e88-297390a7158b",
   "metadata": {
    "execution": {
     "iopub.execute_input": "2023-12-03T18:26:43.510140Z",
     "iopub.status.busy": "2023-12-03T18:26:43.509859Z",
     "iopub.status.idle": "2023-12-03T18:26:43.512781Z",
     "shell.execute_reply": "2023-12-03T18:26:43.512462Z",
     "shell.execute_reply.started": "2023-12-03T18:26:43.510128Z"
    }
   },
   "outputs": [
    {
     "data": {
      "text/plain": [
       "(-1/r, 1/r)"
      ]
     },
     "execution_count": 18,
     "metadata": {},
     "output_type": "execute_result"
    }
   ],
   "source": [
    "sage: gam_e[1,2,2], gam_e[2,1,2]"
   ]
  },
  {
   "cell_type": "code",
   "execution_count": 19,
   "id": "d76f231a-1936-41af-b440-24d72270b6e9",
   "metadata": {
    "execution": {
     "iopub.execute_input": "2023-12-03T18:26:43.513691Z",
     "iopub.status.busy": "2023-12-03T18:26:43.513306Z",
     "iopub.status.idle": "2023-12-03T18:26:43.517285Z",
     "shell.execute_reply": "2023-12-03T18:26:43.516975Z",
     "shell.execute_reply.started": "2023-12-03T18:26:43.513677Z"
    }
   },
   "outputs": [
    {
     "data": {
      "text/plain": [
       "(-1/r, 1/r)"
      ]
     },
     "execution_count": 19,
     "metadata": {},
     "output_type": "execute_result"
    }
   ],
   "source": [
    "sage: gam_e[1,3,3], gam_e[3,1,3]"
   ]
  },
  {
   "cell_type": "code",
   "execution_count": 20,
   "id": "3bab31eb-963a-406d-ae85-7fe58ab32bf2",
   "metadata": {
    "execution": {
     "iopub.execute_input": "2023-12-03T18:26:48.707201Z",
     "iopub.status.busy": "2023-12-03T18:26:48.706336Z",
     "iopub.status.idle": "2023-12-03T18:26:48.714119Z",
     "shell.execute_reply": "2023-12-03T18:26:48.713067Z",
     "shell.execute_reply.started": "2023-12-03T18:26:48.707168Z"
    }
   },
   "outputs": [
    {
     "data": {
      "text/plain": [
       "(-cos(th)/(r*sin(th)), cos(th)/(r*sin(th)))"
      ]
     },
     "execution_count": 20,
     "metadata": {},
     "output_type": "execute_result"
    }
   ],
   "source": [
    "sage: gam_e[2,3,3], gam_e[3,2,3]"
   ]
  },
  {
   "cell_type": "code",
   "execution_count": null,
   "id": "da70b6fb-5868-4e26-9ce7-f6d4111f3a3e",
   "metadata": {},
   "outputs": [],
   "source": []
  }
 ],
 "metadata": {
  "kernelspec": {
   "display_name": "SageMath 10.0",
   "language": "sage",
   "name": "sagemath"
  },
  "language_info": {
   "codemirror_mode": {
    "name": "ipython",
    "version": 3
   },
   "file_extension": ".py",
   "mimetype": "text/x-python",
   "name": "python",
   "nbconvert_exporter": "python",
   "pygments_lexer": "ipython3",
   "version": "3.10.12"
  }
 },
 "nbformat": 4,
 "nbformat_minor": 5
}
